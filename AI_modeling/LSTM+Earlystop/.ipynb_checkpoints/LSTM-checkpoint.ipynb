{
 "cells": [
  {
   "cell_type": "code",
   "execution_count": 1,
   "id": "dafcbfc7",
   "metadata": {
    "ExecuteTime": {
     "end_time": "2022-12-21T15:23:32.468781Z",
     "start_time": "2022-12-21T15:23:29.611427Z"
    }
   },
   "outputs": [],
   "source": [
    "import os\n",
    "import time\n",
    "\n",
    "import numpy as np\n",
    "import pandas as pd\n",
    "import matplotlib.pyplot as plt\n",
    "\n",
    "import torch\n",
    "import torch.nn as nn\n",
    "from torch.utils.data import TensorDataset, DataLoader\n",
    "from torch.autograd import Variable\n",
    "from tqdm import tqdm_notebook\n",
    "from sklearn.preprocessing import StandardScaler, MinMaxScaler\n",
    "from sklearn.model_selection import train_test_split\n",
    "\n",
    "device = torch.device('cuda:0' if torch.cuda.is_available() else 'cpu')"
   ]
  },
  {
   "cell_type": "code",
   "execution_count": 2,
   "id": "e12482db",
   "metadata": {
    "ExecuteTime": {
     "end_time": "2022-12-21T15:23:32.495710Z",
     "start_time": "2022-12-21T15:23:32.470778Z"
    }
   },
   "outputs": [
    {
     "name": "stdout",
     "output_type": "stream",
     "text": [
      "Date       object\n",
      "Close     float64\n",
      "Open      float64\n",
      "High      float64\n",
      "Low       float64\n",
      "Volume    float64\n",
      "Change    float64\n",
      "dtype: object\n"
     ]
    }
   ],
   "source": [
    "# 데이터 불러오기\n",
    "df = pd.read_csv('../../Data1/kospi_data.csv')\n",
    "print(df.dtypes)"
   ]
  },
  {
   "cell_type": "code",
   "execution_count": 3,
   "id": "75973ef9",
   "metadata": {
    "ExecuteTime": {
     "end_time": "2022-12-21T15:23:32.511668Z",
     "start_time": "2022-12-21T15:23:32.499701Z"
    }
   },
   "outputs": [],
   "source": [
    "# Date 컬럼 Datetime으로 변경\n",
    "df['Date'] = pd.to_datetime(df['Date'])\n",
    "df.set_index('Date', inplace = True)"
   ]
  },
  {
   "cell_type": "code",
   "execution_count": 5,
   "id": "d2458d74",
   "metadata": {
    "ExecuteTime": {
     "end_time": "2022-12-21T15:23:42.273552Z",
     "start_time": "2022-12-21T15:23:42.260588Z"
    }
   },
   "outputs": [
    {
     "name": "stdout",
     "output_type": "stream",
     "text": [
      "               Open     High      Low       Volume  Change\n",
      "Date                                                      \n",
      "1981-05-01   123.60   123.60   123.60    3330000.0  0.0098\n",
      "1981-05-02   123.50   123.50   123.50    2040000.0 -0.0008\n",
      "1981-05-04   120.60   120.60   120.60    1930000.0 -0.0235\n",
      "1981-05-06   120.70   120.70   120.70    1690000.0  0.0008\n",
      "1981-05-07   119.30   119.30   119.30    1480000.0 -0.0116\n",
      "...             ...      ...      ...          ...     ...\n",
      "2022-08-25  2459.79  2477.26  2455.32  426230000.0  0.0122\n",
      "2022-08-26  2489.14  2497.76  2476.75  520090000.0  0.0015\n",
      "2022-08-29  2432.06  2432.89  2417.01  448750000.0 -0.0218\n",
      "2022-08-30  2441.21  2453.91  2433.48     327210.0  0.0099\n",
      "2022-08-31  2433.47  2473.75  2426.14     397290.0  0.0086\n",
      "\n",
      "[11024 rows x 5 columns]\n",
      "              Close\n",
      "Date               \n",
      "1981-05-01   123.60\n",
      "1981-05-02   123.50\n",
      "1981-05-04   120.60\n",
      "1981-05-06   120.70\n",
      "1981-05-07   119.30\n",
      "...             ...\n",
      "2022-08-25  2477.26\n",
      "2022-08-26  2481.03\n",
      "2022-08-29  2426.89\n",
      "2022-08-30  2450.93\n",
      "2022-08-31  2472.05\n",
      "\n",
      "[11024 rows x 1 columns]\n"
     ]
    }
   ],
   "source": [
    "X = df.iloc[:, 1:]\n",
    "y = df.iloc[:,0:1]\n",
    "print(X)\n",
    "print(y)"
   ]
  },
  {
   "cell_type": "code",
   "execution_count": 6,
   "id": "bd5e7da5",
   "metadata": {
    "ExecuteTime": {
     "end_time": "2022-12-21T15:23:42.901899Z",
     "start_time": "2022-12-21T15:23:42.887911Z"
    }
   },
   "outputs": [
    {
     "name": "stdout",
     "output_type": "stream",
     "text": [
      "Training Shape (7716, 5) (7716, 1)\n",
      "Testing Shape (3308, 5) (3308, 1)\n"
     ]
    }
   ],
   "source": [
    "train_len = int(len(df) * 0.7)\n",
    "\n",
    "ms = MinMaxScaler()\n",
    "ss = StandardScaler()\n",
    "\n",
    "X_ss = ss.fit_transform(X)\n",
    "y_ms = ms.fit_transform(y)\n",
    "\n",
    "X_train = X_ss[:train_len, :]\n",
    "X_test = X_ss[train_len:, :]\n",
    "\n",
    "y_train = y_ms[:train_len, :]\n",
    "y_test = y_ms[train_len:, :]\n",
    "\n",
    "print(\"Training Shape\", X_train.shape, y_train.shape)\n",
    "print(\"Testing Shape\", X_test.shape, y_test.shape)"
   ]
  },
  {
   "cell_type": "code",
   "execution_count": 7,
   "id": "a1768ca8",
   "metadata": {
    "ExecuteTime": {
     "end_time": "2022-12-21T15:23:45.255576Z",
     "start_time": "2022-12-21T15:23:45.247598Z"
    }
   },
   "outputs": [
    {
     "name": "stdout",
     "output_type": "stream",
     "text": [
      "Training Shape torch.Size([7716, 1, 5]) torch.Size([7716, 1])\n",
      "Testing Shape torch.Size([3308, 1, 5]) torch.Size([3308, 1])\n"
     ]
    }
   ],
   "source": [
    "X_train_tensors = Variable(torch.Tensor(X_train))\n",
    "X_test_tensors = Variable(torch.Tensor(X_test))\n",
    "\n",
    "y_train_tensors = Variable(torch.Tensor(y_train))\n",
    "y_test_tensors = Variable(torch.Tensor(y_test))\n",
    "\n",
    "X_train_tensors_f = torch.reshape(X_train_tensors, (X_train_tensors.shape[0],\n",
    "                                                   1, X_train_tensors.shape[1]))\n",
    "X_test_tensors_f = torch.reshape(X_test_tensors, (X_test_tensors.shape[0],\n",
    "                                                 1, X_test_tensors.shape[1]))\n",
    "\n",
    "print(\"Training Shape\", X_train_tensors_f.shape, y_train_tensors.shape)\n",
    "print(\"Testing Shape\", X_test_tensors_f.shape, y_test_tensors.shape)"
   ]
  },
  {
   "cell_type": "code",
   "execution_count": 8,
   "id": "75f90912",
   "metadata": {
    "ExecuteTime": {
     "end_time": "2022-12-21T15:23:47.693054Z",
     "start_time": "2022-12-21T15:23:47.687071Z"
    }
   },
   "outputs": [],
   "source": [
    "from torch.utils.data import TensorDataset # 텐서데이터셋\n",
    "from torch.utils.data import DataLoader # 데이터로더\n",
    "\n",
    "batch = 256\n",
    "seq_length = 7\n",
    "\n",
    "# 텐서 형태로 데이터 정의\n",
    "dataset = TensorDataset(X_train_tensors_f, y_train_tensors)\n",
    "\n",
    "# 데이터로더는 기본적으로 2개의 인자를 입력받으며 배치크기는 통상적으로 2의 배수를 사용\n",
    "dataloader = DataLoader(dataset,\n",
    "                        batch_size=batch,\n",
    "                        shuffle=True,  \n",
    "                        drop_last=True)"
   ]
  },
  {
   "cell_type": "code",
   "execution_count": 9,
   "id": "2d26b0ed",
   "metadata": {
    "ExecuteTime": {
     "end_time": "2022-12-21T15:23:50.387335Z",
     "start_time": "2022-12-21T15:23:50.379357Z"
    }
   },
   "outputs": [],
   "source": [
    "# 설정값\n",
    "data_dim = 5\n",
    "hidden_dim = 10\n",
    "output_dim = 1 \n",
    "learning_rate = 0.0001\n",
    "nb_epochs = 1000\n",
    "layers = 4\n",
    "\n",
    "class Net(nn.Module):\n",
    "    # # 기본변수, layer를 초기화해주는 생성자\n",
    "    def __init__(self, input_dim, hidden_dim, seq_len, output_dim, layers):\n",
    "        super(Net, self).__init__()\n",
    "        self.hidden_dim = hidden_dim\n",
    "        self.seq_len = seq_len\n",
    "        self.output_dim = output_dim\n",
    "        self.layers = layers\n",
    "        \n",
    "        self.lstm = nn.LSTM(input_dim, hidden_dim, num_layers=layers,\n",
    "                             dropout = 0.1,\n",
    "                            batch_first=True)\n",
    "        self.fc = nn.Linear(hidden_dim, output_dim, bias = True) \n",
    "        \n",
    "    # 학습 초기화를 위한 함수\n",
    "    def reset_hidden_state(self): \n",
    "        self.hidden = (\n",
    "                torch.zeros(self.layers, self.seq_len, self.hidden_dim),\n",
    "                torch.zeros(self.layers, self.seq_len, self.hidden_dim))\n",
    "    \n",
    "    # 예측을 위한 함수\n",
    "    def forward(self, x):\n",
    "        x, _status = self.lstm(x)\n",
    "        x = self.fc(x[:, -1])\n",
    "        return x"
   ]
  },
  {
   "cell_type": "code",
   "execution_count": 10,
   "id": "c93b6313",
   "metadata": {
    "ExecuteTime": {
     "end_time": "2022-12-21T15:23:55.676187Z",
     "start_time": "2022-12-21T15:23:55.668210Z"
    }
   },
   "outputs": [],
   "source": [
    "def train_model(model, train_df, num_epochs = None, lr = None, verbose = 10, patience = 10):\n",
    "     \n",
    "    criterion = nn.MSELoss().to(device)\n",
    "    optimizer = optim.Adam(model.parameters(), lr = learning_rate)\n",
    "    nb_epochs = num_epochs\n",
    "    \n",
    "    # epoch마다 loss 저장\n",
    "    train_hist = np.zeros(nb_epochs)\n",
    "\n",
    "    for epoch in range(nb_epochs):\n",
    "        avg_cost = 0\n",
    "        total_batch = len(train_df)\n",
    "        \n",
    "        for batch_idx, samples in enumerate(train_df):\n",
    "\n",
    "            x_train, y_train = samples\n",
    "            \n",
    "            # seq별 hidden state reset\n",
    "            model.reset_hidden_state()\n",
    "            \n",
    "            # H(x) 계산\n",
    "            outputs = model(x_train)\n",
    "                \n",
    "            # cost 계산\n",
    "            loss = criterion(outputs, y_train)                    \n",
    "            \n",
    "            # cost로 H(x) 개선\n",
    "            optimizer.zero_grad()\n",
    "            loss.backward()\n",
    "            optimizer.step()\n",
    "            \n",
    "            avg_cost += loss/total_batch\n",
    "               \n",
    "        train_hist[epoch] = avg_cost        \n",
    "        \n",
    "        if epoch % verbose == 0:\n",
    "            print('Epoch:', '%04d' % (epoch), 'train loss :', '{:.4f}'.format(avg_cost))\n",
    "            \n",
    "        # patience번째 마다 early stopping 여부 확인\n",
    "        if (epoch % patience == 0) & (epoch != 0):\n",
    "            \n",
    "            # loss가 커졌다면 early stop\n",
    "            if train_hist[epoch-patience] < train_hist[epoch]:\n",
    "                print('\\n Early Stopping')\n",
    "                \n",
    "                break\n",
    "            \n",
    "    return model.eval(), train_hist"
   ]
  },
  {
   "cell_type": "code",
   "execution_count": 130,
   "id": "479a82be",
   "metadata": {
    "ExecuteTime": {
     "end_time": "2022-12-14T10:03:04.129855Z",
     "start_time": "2022-12-14T10:02:12.881116Z"
    }
   },
   "outputs": [
    {
     "name": "stdout",
     "output_type": "stream",
     "text": [
      "Epoch: 0000 train loss : 0.0836\n",
      "Epoch: 0020 train loss : 0.0238\n",
      "Epoch: 0040 train loss : 0.0132\n",
      "Epoch: 0060 train loss : 0.0041\n",
      "Epoch: 0080 train loss : 0.0019\n",
      "Epoch: 0100 train loss : 0.0017\n",
      "Epoch: 0120 train loss : 0.0013\n",
      "Epoch: 0140 train loss : 0.0012\n",
      "Epoch: 0160 train loss : 0.0011\n",
      "Epoch: 0180 train loss : 0.0009\n",
      "Epoch: 0200 train loss : 0.0007\n",
      "Epoch: 0220 train loss : 0.0006\n",
      "Epoch: 0240 train loss : 0.0005\n",
      "Epoch: 0260 train loss : 0.0005\n",
      "Epoch: 0280 train loss : 0.0005\n",
      "\n",
      " Early Stopping\n"
     ]
    }
   ],
   "source": [
    "# 모델 학습\n",
    "net = Net(data_dim, hidden_dim, seq_length, output_dim, layers).to(device)  \n",
    "model, train_hist = train_model(net, dataloader, num_epochs = nb_epochs, lr = learning_rate, verbose = 20, patience = 10)"
   ]
  },
  {
   "cell_type": "code",
   "execution_count": 133,
   "id": "01449d70",
   "metadata": {
    "ExecuteTime": {
     "end_time": "2022-12-14T10:03:08.323159Z",
     "start_time": "2022-12-14T10:03:08.200487Z"
    }
   },
   "outputs": [
    {
     "data": {
      "image/png": "[encoded data removed]",
      "text/plain": [
       "<Figure size 720x288 with 1 Axes>"
      ]
     },
     "metadata": {
      "needs_background": "light"
     },
     "output_type": "display_data"
    }
   ],
   "source": [
    "# epoch별 손실값\n",
    "fig = plt.figure(figsize=(10, 4))\n",
    "plt.plot(train_hist, label=\"Training loss\")\n",
    "plt.legend()\n",
    "plt.show()"
   ]
  },
  {
   "cell_type": "code",
   "execution_count": 134,
   "id": "82e1bd05",
   "metadata": {
    "ExecuteTime": {
     "end_time": "2022-12-14T10:03:08.944400Z",
     "start_time": "2022-12-14T10:03:08.928442Z"
    }
   },
   "outputs": [
    {
     "data": {
      "text/plain": [
       "Net(\n",
       "  (lstm): LSTM(5, 10, num_layers=4, batch_first=True, dropout=0.1)\n",
       "  (fc): Linear(in_features=10, out_features=1, bias=True)\n",
       ")"
      ]
     },
     "execution_count": 134,
     "metadata": {},
     "output_type": "execute_result"
    }
   ],
   "source": [
    "PATH = \"./Timeseries_LSTM_data-02-stock_daily_.pth\"\n",
    "torch.save(model.state_dict(), PATH)\n",
    "\n",
    "# 불러오기\n",
    "model = Net(data_dim, hidden_dim, seq_length, output_dim, layers).to(device)  \n",
    "model.load_state_dict(torch.load(PATH), strict=False)\n",
    "model.eval()"
   ]
  },
  {
   "cell_type": "code",
   "execution_count": 136,
   "id": "71516ba2",
   "metadata": {
    "ExecuteTime": {
     "end_time": "2022-12-14T10:03:24.184052Z",
     "start_time": "2022-12-14T10:03:21.954424Z"
    }
   },
   "outputs": [
    {
     "name": "stdout",
     "output_type": "stream",
     "text": [
      "MAE SCORE :  12.634246637066678\n"
     ]
    }
   ],
   "source": [
    "with torch.no_grad(): \n",
    "    pred = []\n",
    "    for pr in range(len(X_train_tensors_f)):\n",
    "\n",
    "        model.reset_hidden_state()\n",
    "\n",
    "        predicted = model(torch.unsqueeze(X_train_tensors_f[pr], 0))\n",
    "        predicted = torch.flatten(predicted).item()\n",
    "        pred.append(predicted)\n",
    "\n",
    "    # INVERSE\n",
    "    pred_inverse = ms.inverse_transform(np.array(pred).reshape(-1, 1))\n",
    "    testY_inverse = ms.inverse_transform(y_train_tensors)\n",
    "\n",
    "def MAE(true, pred):\n",
    "    return np.mean(np.abs(true-pred))\n",
    "\n",
    "print('MAE SCORE : ', MAE(testY_inverse, pred_inverse))"
   ]
  },
  {
   "cell_type": "code",
   "execution_count": 153,
   "id": "9b432e47",
   "metadata": {
    "ExecuteTime": {
     "end_time": "2022-12-14T10:13:11.410104Z",
     "start_time": "2022-12-14T10:13:11.401129Z"
    }
   },
   "outputs": [],
   "source": [
    "df_x_ss = ss.transform(data.iloc[:, 1:])\n",
    "df_y_ms = ms.transform(data.iloc[:, :1])\n",
    "\n",
    "df_x_ss = Variable(torch.Tensor(df_x_ss))\n",
    "df_y_ms = Variable(torch.Tensor(df_y_ms))\n",
    "df_x_ss = torch.reshape(df_x_ss, (df_x_ss.shape[0], 1, df_x_ss.shape[1]))"
   ]
  },
  {
   "cell_type": "code",
   "execution_count": 155,
   "id": "c80bab02",
   "metadata": {
    "ExecuteTime": {
     "end_time": "2022-12-14T10:13:16.318037Z",
     "start_time": "2022-12-14T10:13:16.104608Z"
    }
   },
   "outputs": [
    {
     "data": {
      "image/png": "[encoded data removed]",
      "text/plain": [
       "<Figure size 720x432 with 1 Axes>"
      ]
     },
     "metadata": {
      "needs_background": "light"
     },
     "output_type": "display_data"
    }
   ],
   "source": [
    "train_predict = model(df_x_ss)\n",
    "predicted = train_predict.data.numpy()\n",
    "label_y = df_y_ms.data.numpy()\n",
    "\n",
    "predicted = ms.inverse_transform(predicted)\n",
    "label_y = ms.inverse_transform(label_y)\n",
    "plt.figure(figsize = (10, 6))\n",
    "plt.axvline(x = 8500, c = 'r', linestyle = '--')\n",
    "\n",
    "plt.plot(label_y, label = 'Actual Data')\n",
    "plt.plot(predicted, label = 'Predicted Data')\n",
    "plt.title('Time-Series Prediction')\n",
    "plt.legend()\n",
    "plt.show()"
   ]
  },
  {
   "cell_type": "code",
   "execution_count": 143,
   "id": "949008f6",
   "metadata": {
    "ExecuteTime": {
     "end_time": "2022-12-14T10:05:22.200230Z",
     "start_time": "2022-12-14T10:05:22.181280Z"
    }
   },
   "outputs": [
    {
     "data": {
      "text/html": [
       "<div>\n",
       "<style scoped>\n",
       "    .dataframe tbody tr th:only-of-type {\n",
       "        vertical-align: middle;\n",
       "    }\n",
       "\n",
       "    .dataframe tbody tr th {\n",
       "        vertical-align: top;\n",
       "    }\n",
       "\n",
       "    .dataframe thead th {\n",
       "        text-align: right;\n",
       "    }\n",
       "</style>\n",
       "<table border=\"1\" class=\"dataframe\">\n",
       "  <thead>\n",
       "    <tr style=\"text-align: right;\">\n",
       "      <th></th>\n",
       "      <th>Open</th>\n",
       "      <th>High</th>\n",
       "      <th>Low</th>\n",
       "      <th>Volume</th>\n",
       "      <th>Change</th>\n",
       "    </tr>\n",
       "    <tr>\n",
       "      <th>Date</th>\n",
       "      <th></th>\n",
       "      <th></th>\n",
       "      <th></th>\n",
       "      <th></th>\n",
       "      <th></th>\n",
       "    </tr>\n",
       "  </thead>\n",
       "  <tbody>\n",
       "    <tr>\n",
       "      <th>1981-05-01</th>\n",
       "      <td>123.60</td>\n",
       "      <td>123.60</td>\n",
       "      <td>123.60</td>\n",
       "      <td>3330000.0</td>\n",
       "      <td>0.0098</td>\n",
       "    </tr>\n",
       "    <tr>\n",
       "      <th>1981-05-02</th>\n",
       "      <td>123.50</td>\n",
       "      <td>123.50</td>\n",
       "      <td>123.50</td>\n",
       "      <td>2040000.0</td>\n",
       "      <td>-0.0008</td>\n",
       "    </tr>\n",
       "    <tr>\n",
       "      <th>1981-05-04</th>\n",
       "      <td>120.60</td>\n",
       "      <td>120.60</td>\n",
       "      <td>120.60</td>\n",
       "      <td>1930000.0</td>\n",
       "      <td>-0.0235</td>\n",
       "    </tr>\n",
       "    <tr>\n",
       "      <th>1981-05-06</th>\n",
       "      <td>120.70</td>\n",
       "      <td>120.70</td>\n",
       "      <td>120.70</td>\n",
       "      <td>1690000.0</td>\n",
       "      <td>0.0008</td>\n",
       "    </tr>\n",
       "    <tr>\n",
       "      <th>1981-05-07</th>\n",
       "      <td>119.30</td>\n",
       "      <td>119.30</td>\n",
       "      <td>119.30</td>\n",
       "      <td>1480000.0</td>\n",
       "      <td>-0.0116</td>\n",
       "    </tr>\n",
       "    <tr>\n",
       "      <th>...</th>\n",
       "      <td>...</td>\n",
       "      <td>...</td>\n",
       "      <td>...</td>\n",
       "      <td>...</td>\n",
       "      <td>...</td>\n",
       "    </tr>\n",
       "    <tr>\n",
       "      <th>2022-08-25</th>\n",
       "      <td>2459.79</td>\n",
       "      <td>2477.26</td>\n",
       "      <td>2455.32</td>\n",
       "      <td>426230000.0</td>\n",
       "      <td>0.0122</td>\n",
       "    </tr>\n",
       "    <tr>\n",
       "      <th>2022-08-26</th>\n",
       "      <td>2489.14</td>\n",
       "      <td>2497.76</td>\n",
       "      <td>2476.75</td>\n",
       "      <td>520090000.0</td>\n",
       "      <td>0.0015</td>\n",
       "    </tr>\n",
       "    <tr>\n",
       "      <th>2022-08-29</th>\n",
       "      <td>2432.06</td>\n",
       "      <td>2432.89</td>\n",
       "      <td>2417.01</td>\n",
       "      <td>448750000.0</td>\n",
       "      <td>-0.0218</td>\n",
       "    </tr>\n",
       "    <tr>\n",
       "      <th>2022-08-30</th>\n",
       "      <td>2441.21</td>\n",
       "      <td>2453.91</td>\n",
       "      <td>2433.48</td>\n",
       "      <td>327210.0</td>\n",
       "      <td>0.0099</td>\n",
       "    </tr>\n",
       "    <tr>\n",
       "      <th>2022-08-31</th>\n",
       "      <td>2433.47</td>\n",
       "      <td>2473.75</td>\n",
       "      <td>2426.14</td>\n",
       "      <td>397290.0</td>\n",
       "      <td>0.0086</td>\n",
       "    </tr>\n",
       "  </tbody>\n",
       "</table>\n",
       "<p>11024 rows × 5 columns</p>\n",
       "</div>"
      ],
      "text/plain": [
       "               Open     High      Low       Volume  Change\n",
       "Date                                                      \n",
       "1981-05-01   123.60   123.60   123.60    3330000.0  0.0098\n",
       "1981-05-02   123.50   123.50   123.50    2040000.0 -0.0008\n",
       "1981-05-04   120.60   120.60   120.60    1930000.0 -0.0235\n",
       "1981-05-06   120.70   120.70   120.70    1690000.0  0.0008\n",
       "1981-05-07   119.30   119.30   119.30    1480000.0 -0.0116\n",
       "...             ...      ...      ...          ...     ...\n",
       "2022-08-25  2459.79  2477.26  2455.32  426230000.0  0.0122\n",
       "2022-08-26  2489.14  2497.76  2476.75  520090000.0  0.0015\n",
       "2022-08-29  2432.06  2432.89  2417.01  448750000.0 -0.0218\n",
       "2022-08-30  2441.21  2453.91  2433.48     327210.0  0.0099\n",
       "2022-08-31  2433.47  2473.75  2426.14     397290.0  0.0086\n",
       "\n",
       "[11024 rows x 5 columns]"
      ]
     },
     "execution_count": 143,
     "metadata": {},
     "output_type": "execute_result"
    }
   ],
   "source": [
    "X"
   ]
  },
  {
   "cell_type": "code",
   "execution_count": null,
   "id": "760b0e41",
   "metadata": {},
   "outputs": [],
   "source": []
  }
 ],
 "metadata": {
  "kernelspec": {
   "display_name": "KDA_DA",
   "language": "python",
   "name": "kda_da"
  },
  "language_info": {
   "codemirror_mode": {
    "name": "ipython",
    "version": 3
   },
   "file_extension": ".py",
   "mimetype": "text/x-python",
   "name": "python",
   "nbconvert_exporter": "python",
   "pygments_lexer": "ipython3",
   "version": "3.10.8"
  },
  "toc": {
   "base_numbering": 1,
   "nav_menu": {},
   "number_sections": true,
   "sideBar": true,
   "skip_h1_title": false,
   "title_cell": "Table of Contents",
   "title_sidebar": "Contents",
   "toc_cell": false,
   "toc_position": {},
   "toc_section_display": true,
   "toc_window_display": false
  }
 },
 "nbformat": 4,
 "nbformat_minor": 5
}
