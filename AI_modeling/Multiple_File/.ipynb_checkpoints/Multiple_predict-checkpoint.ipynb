{
 "cells": [
  {
   "cell_type": "markdown",
   "id": "3c820fb4",
   "metadata": {},
   "source": [
    "# 필요한 라이브러리 불러오기"
   ]
  },
  {
   "cell_type": "code",
   "execution_count": 1,
   "id": "6bddb04f",
   "metadata": {
    "ExecuteTime": {
     "end_time": "2022-12-23T05:22:59.540147Z",
     "start_time": "2022-12-23T05:22:56.756747Z"
    }
   },
   "outputs": [],
   "source": [
    "import os\n",
    "import time\n",
    "import glob\n",
    "\n",
    "import numpy as np\n",
    "import pandas as pd\n",
    "import matplotlib.pyplot as plt\n",
    "from copy import deepcopy\n",
    "\n",
    "import torch\n",
    "import torch.nn as nn\n",
    "from torch.utils.data import TensorDataset, DataLoader\n",
    "from torch.autograd import Variable\n",
    "from tqdm import tqdm_notebook\n",
    "from sklearn.preprocessing import StandardScaler, MinMaxScaler\n",
    "from sklearn.model_selection import train_test_split\n",
    "\n",
    "device = torch.device('cuda:0' if torch.cuda.is_available() else 'cpu')"
   ]
  },
  {
   "cell_type": "markdown",
   "id": "6c1522cb",
   "metadata": {},
   "source": [
    "# 데이터셋 불러오기"
   ]
  },
  {
   "cell_type": "code",
   "execution_count": 2,
   "id": "29367fd1",
   "metadata": {
    "ExecuteTime": {
     "end_time": "2022-12-23T05:22:59.549032Z",
     "start_time": "2022-12-23T05:22:59.543049Z"
    }
   },
   "outputs": [],
   "source": [
    "def load_files(path):\n",
    "    \n",
    "    names = glob.glob(path)\n",
    "    file_list = []\n",
    "    name_list = []\n",
    "    for i, name in enumerate(names):\n",
    "        assert len(name) == 22\n",
    "        name_list.append([name[12:18]])\n",
    "        sub = pd.read_csv(name)\n",
    "        file_list.append(sub)\n",
    "        \n",
    "    return file_list, name_list"
   ]
  },
  {
   "cell_type": "code",
   "execution_count": null,
   "id": "69f765b3",
   "metadata": {},
   "outputs": [],
   "source": []
  },
  {
   "cell_type": "code",
   "execution_count": 1,
   "id": "190d2e80",
   "metadata": {
    "ExecuteTime": {
     "end_time": "2022-12-23T05:31:34.479408Z",
     "start_time": "2022-12-23T05:31:34.465446Z"
    }
   },
   "outputs": [],
   "source": [
    "def scailing(data):\n",
    "    data['Date'] = pd.to_datetime(data['Date'])\n",
    "    data.set_index('Date', inplace = True)\n",
    "    \n",
    "    np.random.seed(100)\n",
    "    rand_norm = np.random.normal(0, 1, size = 1)\n",
    "    rand_norm.item()\n",
    "    \n",
    "    data.loc[data['Close'] > 2 * data['Open'], 'Close'] = data.loc[data['Close'] > 2 * data['Open'], 'Open'] + rand_norm.item()\n",
    "    \n",
    "    X = data.iloc[:-1, 1:]\n",
    "    y = data.iloc[1:, :1]\n",
    "\n",
    "    global ms, ss, train_cnt\n",
    "    \n",
    "    ms = MinMaxScaler()\n",
    "    ss = StandardScaler()\n",
    "\n",
    "    X_ss = ss.fit_transform(X)\n",
    "    y_ms = ms.fit_transform(y)\n",
    "\n",
    "    ratios = [.8, .2]\n",
    "\n",
    "    train_cnt = int(len(data) * ratios[0])\n",
    "    test_cnt = int(len(data) * ratios[1])\n",
    "\n",
    "    X_train = X_ss[:train_cnt, :]\n",
    "    X_test = X_ss[train_cnt:, :]\n",
    "\n",
    "    y_train = y_ms[:train_cnt, :]\n",
    "    y_test = y_ms[train_cnt:, :]\n",
    "\n",
    "    X_train_tensors = Variable(torch.Tensor(X_train))\n",
    "    X_test_tensors = Variable(torch.Tensor(X_test))\n",
    "\n",
    "    y_train_tensors = Variable(torch.Tensor(y_train))\n",
    "    y_test_tensors = Variable(torch.Tensor(y_test))\n",
    "\n",
    "    X_train_tensors_f = torch.reshape(X_train_tensors, (X_train_tensors.shape[0], 1, X_train_tensors.shape[1]))\n",
    "    X_test_tensors_f = torch.reshape(X_test_tensors, (X_test_tensors.shape[0], 1, X_test_tensors.shape[1]))\n",
    "    \n",
    "    return X_train_tensors_f, X_test_tensors_f, y_train_tensors, y_test_tensors"
   ]
  },
  {
   "cell_type": "code",
   "execution_count": 2,
   "id": "a761c40d",
   "metadata": {
    "ExecuteTime": {
     "end_time": "2022-12-23T05:31:35.094505Z",
     "start_time": "2022-12-23T05:31:34.906009Z"
    }
   },
   "outputs": [
    {
     "ename": "NameError",
     "evalue": "name 'nn' is not defined",
     "output_type": "error",
     "traceback": [
      "\u001b[1;31m---------------------------------------------------------------------------\u001b[0m",
      "\u001b[1;31mNameError\u001b[0m                                 Traceback (most recent call last)",
      "Cell \u001b[1;32mIn[2], line 1\u001b[0m\n\u001b[1;32m----> 1\u001b[0m \u001b[38;5;28;01mclass\u001b[39;00m \u001b[38;5;21;01mLSTM\u001b[39;00m(\u001b[43mnn\u001b[49m\u001b[38;5;241m.\u001b[39mModule):\n\u001b[0;32m      2\u001b[0m     \u001b[38;5;28;01mdef\u001b[39;00m \u001b[38;5;21m__init__\u001b[39m(\u001b[38;5;28mself\u001b[39m, num_classes, input_size, hidden_size, num_layers, seq_length):\n\u001b[0;32m      3\u001b[0m         \u001b[38;5;28msuper\u001b[39m(LSTM, \u001b[38;5;28mself\u001b[39m)\u001b[38;5;241m.\u001b[39m\u001b[38;5;21m__init__\u001b[39m()\n",
      "\u001b[1;31mNameError\u001b[0m: name 'nn' is not defined"
     ]
    }
   ],
   "source": [
    "class LSTM(nn.Module):\n",
    "    def __init__(self, num_classes, input_size, hidden_size, num_layers, seq_length):\n",
    "        super(LSTM, self).__init__()\n",
    "        self.num_classes = num_classes\n",
    "        self.num_layers = num_layers\n",
    "        self.input_size = input_size\n",
    "        self.hidden_size = hidden_size\n",
    "        self.seq_length = seq_length\n",
    "        \n",
    "        self.lstm = nn.LSTM(input_size = input_size, hidden_size = hidden_size, \n",
    "                           num_layers = num_layers, batch_first = True)\n",
    "        self.fc_1 = nn.Linear(hidden_size, 128)\n",
    "        self.fc = nn.Linear(128, num_classes)\n",
    "        self.relu = nn.ReLU()\n",
    "        \n",
    "    def forward(self, x):\n",
    "        h_0 = Variable(torch.zeros(self.num_layers, x.size(0), self.hidden_size))\n",
    "        c_0 = Variable(torch.zeros(self.num_layers, x.size(0), self.hidden_size))\n",
    "        output, (hn, cn) = self.lstm(x, (h_0, c_0))\n",
    "        hn = hn.view(-1, self.hidden_size)\n",
    "        out = self.relu(hn)\n",
    "        out = self.fc_1(out)\n",
    "        out = self.relu(out)\n",
    "        out = self.fc(out)\n",
    "        return out"
   ]
  },
  {
   "cell_type": "code",
   "execution_count": 3,
   "id": "f27e0dc4",
   "metadata": {
    "ExecuteTime": {
     "end_time": "2022-12-23T05:31:35.208201Z",
     "start_time": "2022-12-23T05:31:35.202217Z"
    }
   },
   "outputs": [],
   "source": [
    "class EarlyStopping:\n",
    "    def __init__(self, patience=5):\n",
    "        self.loss = np.inf\n",
    "        self.patience = 0\n",
    "        self.patience_limit = patience\n",
    "        \n",
    "    def step(self, loss):\n",
    "        if self.loss > loss:\n",
    "            self.loss = loss\n",
    "            self.patience = 0\n",
    "        else:\n",
    "            self.patience += 1\n",
    "    \n",
    "    def is_stop(self):\n",
    "        return self.patience >= self.patience_limit"
   ]
  },
  {
   "cell_type": "code",
   "execution_count": 50,
   "id": "cd8e75bb",
   "metadata": {
    "ExecuteTime": {
     "end_time": "2022-12-23T05:27:31.056668Z",
     "start_time": "2022-12-23T05:27:31.050990Z"
    }
   },
   "outputs": [],
   "source": [
    "def training(X_train_tensors_f, y_train_tensors):\n",
    "    num_epochs = 20000\n",
    "    learning_rate = 0.001\n",
    "\n",
    "    input_size = 5\n",
    "    hidden_size = 2\n",
    "    num_layers = 1\n",
    "\n",
    "    num_classes = 1\n",
    "    model = LSTM(num_classes, input_size, hidden_size, num_layers, X_train_tensors_f.shape[1])\n",
    "\n",
    "    criterion = torch.nn.MSELoss()\n",
    "    optimizer = torch.optim.Adam(model.parameters(), lr = learning_rate)\n",
    "\n",
    "    early_stop = EarlyStopping(patience=20)\n",
    "\n",
    "    for epoch in range(num_epochs):\n",
    "        outputs = model.forward(X_train_tensors_f)\n",
    "        optimizer.zero_grad()\n",
    "        loss = criterion(outputs, y_train_tensors)\n",
    "        early_stop.step(loss.item())\n",
    "\n",
    "        loss.backward()\n",
    "\n",
    "        optimizer.step()\n",
    "\n",
    "        if early_stop.is_stop():\n",
    "            break\n",
    "\n",
    "    return model, epoch"
   ]
  },
  {
   "cell_type": "code",
   "execution_count": 51,
   "id": "3cf0d2c8",
   "metadata": {
    "ExecuteTime": {
     "end_time": "2022-12-23T05:27:31.202467Z",
     "start_time": "2022-12-23T05:27:31.196483Z"
    }
   },
   "outputs": [],
   "source": [
    "def predict(df, model):\n",
    "    \n",
    "    df_x_ss = ss.fit_transform(df.iloc[:, 1:])\n",
    "    df_y_ms = ms.fit_transform(df.iloc[1:, :1])\n",
    "\n",
    "    df_x_ss = Variable(torch.Tensor(df_x_ss))\n",
    "    df_y_ms = Variable(torch.Tensor(df_y_ms))\n",
    "    df_x_ss = torch.reshape(df_x_ss, (df_x_ss.shape[0], 1, df_x_ss.shape[1]))\n",
    "\n",
    "    train_predict = model(df_x_ss)\n",
    "    predicted = train_predict.data.numpy()\n",
    "    label_y = df_y_ms.data.numpy()\n",
    "\n",
    "    predicted = ms.inverse_transform(predicted)\n",
    "    label_y = ms.inverse_transform(label_y)\n",
    "    \n",
    "    return predicted, label_y"
   ]
  },
  {
   "cell_type": "code",
   "execution_count": 52,
   "id": "9bfcbe71",
   "metadata": {
    "ExecuteTime": {
     "end_time": "2022-12-23T05:27:31.368023Z",
     "start_time": "2022-12-23T05:27:31.363037Z"
    }
   },
   "outputs": [],
   "source": [
    "def plot_chart(predictd, label_y):\n",
    "    plt.figure(figsize = (20, 10))\n",
    "    plt.axvline(x = train_cnt, c = 'r', linestyle = '--')\n",
    "\n",
    "    plt.plot(predicted, label = 'Predicted Data')\n",
    "    plt.plot(label_y, label = 'Actual Data')\n",
    "    plt.title('Time-Series Prediction')\n",
    "    plt.legend()\n",
    "    plt.show()"
   ]
  },
  {
   "cell_type": "code",
   "execution_count": 53,
   "id": "301ec858",
   "metadata": {
    "ExecuteTime": {
     "end_time": "2022-12-23T05:27:31.533581Z",
     "start_time": "2022-12-23T05:27:31.529591Z"
    }
   },
   "outputs": [],
   "source": [
    "def MAE(predicted, label_y):\n",
    "    return int(np.mean(np.abs(predicted[:-1] - label_y)))"
   ]
  },
  {
   "cell_type": "code",
   "execution_count": 54,
   "id": "786bb447",
   "metadata": {
    "ExecuteTime": {
     "end_time": "2022-12-23T05:27:31.690161Z",
     "start_time": "2022-12-23T05:27:31.686173Z"
    }
   },
   "outputs": [],
   "source": [
    "def Change(predicted, label_y):\n",
    "    return int(predicted[-1] - predicted[-2])"
   ]
  },
  {
   "cell_type": "code",
   "execution_count": 55,
   "id": "09af7b1a",
   "metadata": {
    "ExecuteTime": {
     "end_time": "2022-12-23T05:27:32.098070Z",
     "start_time": "2022-12-23T05:27:32.092086Z"
    }
   },
   "outputs": [],
   "source": [
    "def save_values(model, predicted, epoch, mae, change):\n",
    "    PATH = f\"../../Model/{name_list[i][0]}_{epoch}.pth\"\n",
    "    torch.save(model.state_dict(), PATH)\n",
    "    pd.DataFrame(predicted).to_csv(f\"../../Predict/MAE/{mae}_{name_list[i][0]}.csv\")\n",
    "    pd.DataFrame(predicted).to_csv(f\"../../Predict/Change/{change}_{name_list[i][0]}.csv\")"
   ]
  },
  {
   "cell_type": "code",
   "execution_count": 56,
   "id": "e5520fd4",
   "metadata": {
    "ExecuteTime": {
     "end_time": "2022-12-23T05:27:32.531113Z",
     "start_time": "2022-12-23T05:27:32.524132Z"
    }
   },
   "outputs": [],
   "source": [
    "def Multiple_training_predict(file_list, i):\n",
    "    df = file_list[i]\n",
    "    X_train_tensors_f, X_test_tensors_f, y_train_tensors, y_test_tensors = scailing(df)\n",
    "    model, epoch = training(X_train_tensors_f, y_train_tensors)\n",
    "    predicted, label_y = predict(df, model)\n",
    "    #plot_chart(predicted, label_y)\n",
    "    mae = MAE(predicted, label_y)\n",
    "    change = Change(predicted, label_y)\n",
    "    save_values(model, predicted, epoch, mae, change)"
   ]
  },
  {
   "cell_type": "code",
   "execution_count": null,
   "id": "b8fa8f35",
   "metadata": {
    "ExecuteTime": {
     "start_time": "2022-12-23T05:27:33.224Z"
    }
   },
   "outputs": [
    {
     "name": "stdout",
     "output_type": "stream",
     "text": [
      "0 - save\n",
      "1 - pass\n",
      "2 - save\n",
      "3 - pass\n",
      "4 - pass\n",
      "5 - pass\n",
      "6 - pass\n",
      "7 - pass\n",
      "8 - pass\n"
     ]
    }
   ],
   "source": [
    "file_list, name_list = load_files('../../Data2/*.csv')\n",
    "\n",
    "save_list = []\n",
    "pass_list = []\n",
    "\n",
    "i = 0\n",
    "\n",
    "for file in file_list:\n",
    "    try:\n",
    "        Multiple_training_predict(file_list, i)\n",
    "        save_list.append(i)\n",
    "        print(f'{i} - save')\n",
    "    except:\n",
    "        pass_list.append(i)\n",
    "        print(f'{i} - pass')\n",
    "        pass\n",
    "    \n",
    "    i += 1"
   ]
  },
  {
   "cell_type": "code",
   "execution_count": 46,
   "id": "5ede69af",
   "metadata": {
    "ExecuteTime": {
     "end_time": "2022-12-23T05:27:07.254546Z",
     "start_time": "2022-12-23T05:27:02.916253Z"
    }
   },
   "outputs": [
    {
     "ename": "NameError",
     "evalue": "name 'df' is not defined",
     "output_type": "error",
     "traceback": [
      "\u001b[1;31m---------------------------------------------------------------------------\u001b[0m",
      "\u001b[1;31mNameError\u001b[0m                                 Traceback (most recent call last)",
      "Cell \u001b[1;32mIn[46], line 3\u001b[0m\n\u001b[0;32m      1\u001b[0m file_list, name_list \u001b[38;5;241m=\u001b[39m load_files(\u001b[38;5;124m'\u001b[39m\u001b[38;5;124m../../Data2/*.csv\u001b[39m\u001b[38;5;124m'\u001b[39m)\n\u001b[1;32m----> 3\u001b[0m \u001b[43mMultiple_training_predict\u001b[49m\u001b[43m(\u001b[49m\u001b[43mfile_list\u001b[49m\u001b[43m,\u001b[49m\u001b[43m \u001b[49m\u001b[38;5;241;43m0\u001b[39;49m\u001b[43m)\u001b[49m\n",
      "Cell \u001b[1;32mIn[44], line 3\u001b[0m, in \u001b[0;36mMultiple_training_predict\u001b[1;34m(file_list, i)\u001b[0m\n\u001b[0;32m      1\u001b[0m \u001b[38;5;28;01mdef\u001b[39;00m \u001b[38;5;21mMultiple_training_predict\u001b[39m(file_list, i):\n\u001b[0;32m      2\u001b[0m     df \u001b[38;5;241m=\u001b[39m file_list[i]\n\u001b[1;32m----> 3\u001b[0m     X_train_tensors_f, X_test_tensors_f, y_train_tensors, y_test_tensors \u001b[38;5;241m=\u001b[39m \u001b[43mscailing\u001b[49m\u001b[43m(\u001b[49m\u001b[43mdf\u001b[49m\u001b[43m)\u001b[49m\n\u001b[0;32m      4\u001b[0m     model, epoch \u001b[38;5;241m=\u001b[39m training(X_train_tensors_f, y_train_tensors)\n\u001b[0;32m      5\u001b[0m     predicted, label_y \u001b[38;5;241m=\u001b[39m predict(df, model)\n",
      "Cell \u001b[1;32mIn[35], line 9\u001b[0m, in \u001b[0;36mscailing\u001b[1;34m(data)\u001b[0m\n\u001b[0;32m      6\u001b[0m rand_norm \u001b[38;5;241m=\u001b[39m np\u001b[38;5;241m.\u001b[39mrandom\u001b[38;5;241m.\u001b[39mnormal(\u001b[38;5;241m0\u001b[39m, \u001b[38;5;241m1\u001b[39m, size \u001b[38;5;241m=\u001b[39m \u001b[38;5;241m1\u001b[39m)\n\u001b[0;32m      7\u001b[0m rand_norm\u001b[38;5;241m.\u001b[39mitem()\n\u001b[1;32m----> 9\u001b[0m data\u001b[38;5;241m.\u001b[39mloc[\u001b[43mdf\u001b[49m[\u001b[38;5;124m'\u001b[39m\u001b[38;5;124mClose\u001b[39m\u001b[38;5;124m'\u001b[39m] \u001b[38;5;241m>\u001b[39m \u001b[38;5;241m2\u001b[39m \u001b[38;5;241m*\u001b[39m data[\u001b[38;5;124m'\u001b[39m\u001b[38;5;124mOpen\u001b[39m\u001b[38;5;124m'\u001b[39m], \u001b[38;5;124m'\u001b[39m\u001b[38;5;124mClose\u001b[39m\u001b[38;5;124m'\u001b[39m] \u001b[38;5;241m=\u001b[39m data\u001b[38;5;241m.\u001b[39mloc[data[\u001b[38;5;124m'\u001b[39m\u001b[38;5;124mClose\u001b[39m\u001b[38;5;124m'\u001b[39m] \u001b[38;5;241m>\u001b[39m \u001b[38;5;241m2\u001b[39m \u001b[38;5;241m*\u001b[39m data[\u001b[38;5;124m'\u001b[39m\u001b[38;5;124mOpen\u001b[39m\u001b[38;5;124m'\u001b[39m], \u001b[38;5;124m'\u001b[39m\u001b[38;5;124mOpen\u001b[39m\u001b[38;5;124m'\u001b[39m] \u001b[38;5;241m+\u001b[39m rand_norm\u001b[38;5;241m.\u001b[39mitem()\n\u001b[0;32m     11\u001b[0m X \u001b[38;5;241m=\u001b[39m data\u001b[38;5;241m.\u001b[39miloc[:\u001b[38;5;241m-\u001b[39m\u001b[38;5;241m1\u001b[39m, \u001b[38;5;241m1\u001b[39m:]\n\u001b[0;32m     12\u001b[0m y \u001b[38;5;241m=\u001b[39m data\u001b[38;5;241m.\u001b[39miloc[\u001b[38;5;241m1\u001b[39m:, :\u001b[38;5;241m1\u001b[39m]\n",
      "\u001b[1;31mNameError\u001b[0m: name 'df' is not defined"
     ]
    }
   ],
   "source": [
    "file_list, name_list = load_files('../../Data2/*.csv')\n",
    "\n",
    "Multiple_training_predict(file_list, 0)"
   ]
  },
  {
   "cell_type": "code",
   "execution_count": 33,
   "id": "e0af668b",
   "metadata": {
    "ExecuteTime": {
     "end_time": "2022-12-23T05:25:42.533648Z",
     "start_time": "2022-12-23T05:25:42.520681Z"
    }
   },
   "outputs": [
    {
     "data": {
      "text/html": [
       "<div>\n",
       "<style scoped>\n",
       "    .dataframe tbody tr th:only-of-type {\n",
       "        vertical-align: middle;\n",
       "    }\n",
       "\n",
       "    .dataframe tbody tr th {\n",
       "        vertical-align: top;\n",
       "    }\n",
       "\n",
       "    .dataframe thead th {\n",
       "        text-align: right;\n",
       "    }\n",
       "</style>\n",
       "<table border=\"1\" class=\"dataframe\">\n",
       "  <thead>\n",
       "    <tr style=\"text-align: right;\">\n",
       "      <th></th>\n",
       "      <th>Open</th>\n",
       "      <th>High</th>\n",
       "      <th>Low</th>\n",
       "      <th>Close</th>\n",
       "      <th>Adj Close</th>\n",
       "      <th>Volume</th>\n",
       "    </tr>\n",
       "    <tr>\n",
       "      <th>Date</th>\n",
       "      <th></th>\n",
       "      <th></th>\n",
       "      <th></th>\n",
       "      <th></th>\n",
       "      <th></th>\n",
       "      <th></th>\n",
       "    </tr>\n",
       "  </thead>\n",
       "  <tbody>\n",
       "    <tr>\n",
       "      <th>2002-06-25</th>\n",
       "      <td>6764.399902</td>\n",
       "      <td>6794.240234</td>\n",
       "      <td>6237.169922</td>\n",
       "      <td>0.0</td>\n",
       "      <td>5111.568359</td>\n",
       "      <td>2260536</td>\n",
       "    </tr>\n",
       "    <tr>\n",
       "      <th>2002-06-26</th>\n",
       "      <td>5958.640137</td>\n",
       "      <td>5958.640137</td>\n",
       "      <td>5481.149902</td>\n",
       "      <td>0.0</td>\n",
       "      <td>4606.926270</td>\n",
       "      <td>2279334</td>\n",
       "    </tr>\n",
       "    <tr>\n",
       "      <th>2002-06-27</th>\n",
       "      <td>5729.839844</td>\n",
       "      <td>5779.580078</td>\n",
       "      <td>5590.580078</td>\n",
       "      <td>0.0</td>\n",
       "      <td>4582.501953</td>\n",
       "      <td>1036024</td>\n",
       "    </tr>\n",
       "    <tr>\n",
       "      <th>2002-06-28</th>\n",
       "      <td>5680.100098</td>\n",
       "      <td>5988.479980</td>\n",
       "      <td>5680.100098</td>\n",
       "      <td>0.0</td>\n",
       "      <td>4883.667480</td>\n",
       "      <td>1406765</td>\n",
       "    </tr>\n",
       "    <tr>\n",
       "      <th>2002-07-02</th>\n",
       "      <td>5590.580078</td>\n",
       "      <td>6227.220215</td>\n",
       "      <td>5590.580078</td>\n",
       "      <td>0.0</td>\n",
       "      <td>5038.312988</td>\n",
       "      <td>819189</td>\n",
       "    </tr>\n",
       "    <tr>\n",
       "      <th>...</th>\n",
       "      <td>...</td>\n",
       "      <td>...</td>\n",
       "      <td>...</td>\n",
       "      <td>...</td>\n",
       "      <td>...</td>\n",
       "      <td>...</td>\n",
       "    </tr>\n",
       "    <tr>\n",
       "      <th>2017-07-03</th>\n",
       "      <td>18650.000000</td>\n",
       "      <td>18750.000000</td>\n",
       "      <td>18400.000000</td>\n",
       "      <td>18550.0</td>\n",
       "      <td>18550.000000</td>\n",
       "      <td>1822142</td>\n",
       "    </tr>\n",
       "    <tr>\n",
       "      <th>2017-07-04</th>\n",
       "      <td>18800.000000</td>\n",
       "      <td>18950.000000</td>\n",
       "      <td>18550.000000</td>\n",
       "      <td>18650.0</td>\n",
       "      <td>18650.000000</td>\n",
       "      <td>1713825</td>\n",
       "    </tr>\n",
       "    <tr>\n",
       "      <th>2017-07-05</th>\n",
       "      <td>18600.000000</td>\n",
       "      <td>18750.000000</td>\n",
       "      <td>18500.000000</td>\n",
       "      <td>18500.0</td>\n",
       "      <td>18500.000000</td>\n",
       "      <td>1443922</td>\n",
       "    </tr>\n",
       "    <tr>\n",
       "      <th>2017-07-06</th>\n",
       "      <td>18300.000000</td>\n",
       "      <td>18750.000000</td>\n",
       "      <td>18300.000000</td>\n",
       "      <td>18650.0</td>\n",
       "      <td>18650.000000</td>\n",
       "      <td>1686051</td>\n",
       "    </tr>\n",
       "    <tr>\n",
       "      <th>2017-07-07</th>\n",
       "      <td>18500.000000</td>\n",
       "      <td>18700.000000</td>\n",
       "      <td>18450.000000</td>\n",
       "      <td>18650.0</td>\n",
       "      <td>18650.000000</td>\n",
       "      <td>1414130</td>\n",
       "    </tr>\n",
       "  </tbody>\n",
       "</table>\n",
       "<p>3755 rows × 6 columns</p>\n",
       "</div>"
      ],
      "text/plain": [
       "                    Open          High           Low    Close     Adj Close  \\\n",
       "Date                                                                          \n",
       "2002-06-25   6764.399902   6794.240234   6237.169922      0.0   5111.568359   \n",
       "2002-06-26   5958.640137   5958.640137   5481.149902      0.0   4606.926270   \n",
       "2002-06-27   5729.839844   5779.580078   5590.580078      0.0   4582.501953   \n",
       "2002-06-28   5680.100098   5988.479980   5680.100098      0.0   4883.667480   \n",
       "2002-07-02   5590.580078   6227.220215   5590.580078      0.0   5038.312988   \n",
       "...                  ...           ...           ...      ...           ...   \n",
       "2017-07-03  18650.000000  18750.000000  18400.000000  18550.0  18550.000000   \n",
       "2017-07-04  18800.000000  18950.000000  18550.000000  18650.0  18650.000000   \n",
       "2017-07-05  18600.000000  18750.000000  18500.000000  18500.0  18500.000000   \n",
       "2017-07-06  18300.000000  18750.000000  18300.000000  18650.0  18650.000000   \n",
       "2017-07-07  18500.000000  18700.000000  18450.000000  18650.0  18650.000000   \n",
       "\n",
       "             Volume  \n",
       "Date                 \n",
       "2002-06-25  2260536  \n",
       "2002-06-26  2279334  \n",
       "2002-06-27  1036024  \n",
       "2002-06-28  1406765  \n",
       "2002-07-02   819189  \n",
       "...             ...  \n",
       "2017-07-03  1822142  \n",
       "2017-07-04  1713825  \n",
       "2017-07-05  1443922  \n",
       "2017-07-06  1686051  \n",
       "2017-07-07  1414130  \n",
       "\n",
       "[3755 rows x 6 columns]"
      ]
     },
     "execution_count": 33,
     "metadata": {},
     "output_type": "execute_result"
    }
   ],
   "source": [
    "file_list[1]"
   ]
  },
  {
   "cell_type": "code",
   "execution_count": null,
   "id": "b2be5117",
   "metadata": {},
   "outputs": [],
   "source": []
  }
 ],
 "metadata": {
  "kernelspec": {
   "display_name": "KDA_DA",
   "language": "python",
   "name": "kda_da"
  },
  "language_info": {
   "codemirror_mode": {
    "name": "ipython",
    "version": 3
   },
   "file_extension": ".py",
   "mimetype": "text/x-python",
   "name": "python",
   "nbconvert_exporter": "python",
   "pygments_lexer": "ipython3",
   "version": "3.10.8"
  },
  "toc": {
   "base_numbering": 1,
   "nav_menu": {},
   "number_sections": true,
   "sideBar": true,
   "skip_h1_title": false,
   "title_cell": "Table of Contents",
   "title_sidebar": "Contents",
   "toc_cell": false,
   "toc_position": {},
   "toc_section_display": true,
   "toc_window_display": false
  }
 },
 "nbformat": 4,
 "nbformat_minor": 5
}
