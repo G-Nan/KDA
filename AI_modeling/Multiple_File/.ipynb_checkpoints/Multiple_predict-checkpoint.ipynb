{
 "cells": [
  {
   "cell_type": "code",
   "execution_count": 1,
   "id": "6bddb04f",
   "metadata": {
    "ExecuteTime": {
     "end_time": "2022-12-22T16:30:30.431874Z",
     "start_time": "2022-12-22T16:30:27.686221Z"
    }
   },
   "outputs": [],
   "source": [
    "import os\n",
    "import time\n",
    "import glob\n",
    "\n",
    "import numpy as np\n",
    "import pandas as pd\n",
    "import matplotlib.pyplot as plt\n",
    "from copy import deepcopy\n",
    "\n",
    "import torch\n",
    "import torch.nn as nn\n",
    "from torch.utils.data import TensorDataset, DataLoader\n",
    "from torch.autograd import Variable\n",
    "from tqdm import tqdm_notebook\n",
    "from sklearn.preprocessing import StandardScaler, MinMaxScaler\n",
    "from sklearn.model_selection import train_test_split\n",
    "\n",
    "device = torch.device('cuda:0' if torch.cuda.is_available() else 'cpu')"
   ]
  },
  {
   "cell_type": "code",
   "execution_count": 2,
   "id": "29367fd1",
   "metadata": {
    "ExecuteTime": {
     "end_time": "2022-12-22T16:30:30.442846Z",
     "start_time": "2022-12-22T16:30:30.433869Z"
    }
   },
   "outputs": [],
   "source": [
    "def load_files(path):\n",
    "    \n",
    "    names = glob.glob(path)\n",
    "    file_list = []\n",
    "    name_list = []\n",
    "    for i, name in enumerate(names):\n",
    "        assert len(name) == 22\n",
    "        name_list.append([name[12:18]])\n",
    "        sub = pd.read_csv(name)\n",
    "        file_list.append(sub)\n",
    "        \n",
    "    return file_list, name_list"
   ]
  },
  {
   "cell_type": "code",
   "execution_count": 3,
   "id": "190d2e80",
   "metadata": {
    "ExecuteTime": {
     "end_time": "2022-12-22T16:30:30.465784Z",
     "start_time": "2022-12-22T16:30:30.453816Z"
    }
   },
   "outputs": [],
   "source": [
    "def scailing(data):\n",
    "    data['Date'] = pd.to_datetime(data['Date'])\n",
    "    data.set_index('Date', inplace = True)\n",
    "    \n",
    "    df.loc[df['Close'] > 2 * df['Open'], 'Close'] = df.loc[df['Close'] > 2 * df['Open'], 'Close'] / 10\n",
    "    \n",
    "    X = data.iloc[:-1, 1:]\n",
    "    y = data.iloc[1:, :1]\n",
    "\n",
    "    global ms, ss, train_cnt\n",
    "    \n",
    "    ms = MinMaxScaler()\n",
    "    ss = StandardScaler()\n",
    "\n",
    "    X_ss = ss.fit_transform(X)\n",
    "    y_ms = ms.fit_transform(y)\n",
    "\n",
    "    ratios = [.8, .2]\n",
    "\n",
    "    train_cnt = int(len(data) * ratios[0])\n",
    "    test_cnt = int(len(data) * ratios[1])\n",
    "\n",
    "    X_train = X_ss[:train_cnt, :]\n",
    "    X_test = X_ss[train_cnt:, :]\n",
    "\n",
    "    y_train = y_ms[:train_cnt, :]\n",
    "    y_test = y_ms[train_cnt:, :]\n",
    "\n",
    "    X_train_tensors = Variable(torch.Tensor(X_train))\n",
    "    X_test_tensors = Variable(torch.Tensor(X_test))\n",
    "\n",
    "    y_train_tensors = Variable(torch.Tensor(y_train))\n",
    "    y_test_tensors = Variable(torch.Tensor(y_test))\n",
    "\n",
    "    X_train_tensors_f = torch.reshape(X_train_tensors, (X_train_tensors.shape[0], 1, X_train_tensors.shape[1]))\n",
    "    X_test_tensors_f = torch.reshape(X_test_tensors, (X_test_tensors.shape[0], 1, X_test_tensors.shape[1]))\n",
    "    \n",
    "    return X_train_tensors_f, X_test_tensors_f, y_train_tensors, y_test_tensors"
   ]
  },
  {
   "cell_type": "code",
   "execution_count": 4,
   "id": "a761c40d",
   "metadata": {
    "ExecuteTime": {
     "end_time": "2022-12-22T16:30:30.476754Z",
     "start_time": "2022-12-22T16:30:30.467779Z"
    }
   },
   "outputs": [],
   "source": [
    "class LSTM(nn.Module):\n",
    "    def __init__(self, num_classes, input_size, hidden_size, num_layers, seq_length):\n",
    "        super(LSTM, self).__init__()\n",
    "        self.num_classes = num_classes\n",
    "        self.num_layers = num_layers\n",
    "        self.input_size = input_size\n",
    "        self.hidden_size = hidden_size\n",
    "        self.seq_length = seq_length\n",
    "        \n",
    "        self.lstm = nn.LSTM(input_size = input_size, hidden_size = hidden_size, \n",
    "                           num_layers = num_layers, batch_first = True)\n",
    "        self.fc_1 = nn.Linear(hidden_size, 128)\n",
    "        self.fc = nn.Linear(128, num_classes)\n",
    "        self.relu = nn.ReLU()\n",
    "        \n",
    "    def forward(self, x):\n",
    "        h_0 = Variable(torch.zeros(self.num_layers, x.size(0), self.hidden_size))\n",
    "        c_0 = Variable(torch.zeros(self.num_layers, x.size(0), self.hidden_size))\n",
    "        output, (hn, cn) = self.lstm(x, (h_0, c_0))\n",
    "        hn = hn.view(-1, self.hidden_size)\n",
    "        out = self.relu(hn)\n",
    "        out = self.fc_1(out)\n",
    "        out = self.relu(out)\n",
    "        out = self.fc(out)\n",
    "        return out"
   ]
  },
  {
   "cell_type": "code",
   "execution_count": 5,
   "id": "f27e0dc4",
   "metadata": {
    "ExecuteTime": {
     "end_time": "2022-12-22T16:30:30.484734Z",
     "start_time": "2022-12-22T16:30:30.478749Z"
    }
   },
   "outputs": [],
   "source": [
    "class EarlyStopping:\n",
    "    def __init__(self, patience=5):\n",
    "        self.loss = np.inf\n",
    "        self.patience = 0\n",
    "        self.patience_limit = patience\n",
    "        \n",
    "    def step(self, loss):\n",
    "        if self.loss > loss:\n",
    "            self.loss = loss\n",
    "            self.patience = 0\n",
    "        else:\n",
    "            self.patience += 1\n",
    "    \n",
    "    def is_stop(self):\n",
    "        return self.patience >= self.patience_limit"
   ]
  },
  {
   "cell_type": "code",
   "execution_count": 6,
   "id": "cd8e75bb",
   "metadata": {
    "ExecuteTime": {
     "end_time": "2022-12-22T16:30:30.493708Z",
     "start_time": "2022-12-22T16:30:30.486728Z"
    }
   },
   "outputs": [],
   "source": [
    "def training(X_train_tensors_f, y_train_tensors):\n",
    "    num_epochs = 20000\n",
    "    learning_rate = 0.001\n",
    "\n",
    "    input_size = 5\n",
    "    hidden_size = 2\n",
    "    num_layers = 1\n",
    "\n",
    "    num_classes = 1\n",
    "    model = LSTM(num_classes, input_size, hidden_size, num_layers, X_train_tensors_f.shape[1])\n",
    "\n",
    "    criterion = torch.nn.MSELoss()\n",
    "    optimizer = torch.optim.Adam(model.parameters(), lr = learning_rate)\n",
    "\n",
    "    early_stop = EarlyStopping(patience=20)\n",
    "\n",
    "    for epoch in range(num_epochs):\n",
    "        outputs = model.forward(X_train_tensors_f)\n",
    "        optimizer.zero_grad()\n",
    "        loss = criterion(outputs, y_train_tensors)\n",
    "        early_stop.step(loss.item())\n",
    "\n",
    "        loss.backward()\n",
    "\n",
    "        optimizer.step()\n",
    "\n",
    "        if early_stop.is_stop():\n",
    "            break\n",
    "\n",
    "    return model, epoch"
   ]
  },
  {
   "cell_type": "code",
   "execution_count": 7,
   "id": "3cf0d2c8",
   "metadata": {
    "ExecuteTime": {
     "end_time": "2022-12-22T16:30:30.502686Z",
     "start_time": "2022-12-22T16:30:30.495705Z"
    }
   },
   "outputs": [],
   "source": [
    "def predict(df, model):\n",
    "    \n",
    "    df_x_ss = ss.fit_transform(df.iloc[:, 1:])\n",
    "    df_y_ms = ms.fit_transform(df.iloc[1:, :1])\n",
    "\n",
    "    df_x_ss = Variable(torch.Tensor(df_x_ss))\n",
    "    df_y_ms = Variable(torch.Tensor(df_y_ms))\n",
    "    df_x_ss = torch.reshape(df_x_ss, (df_x_ss.shape[0], 1, df_x_ss.shape[1]))\n",
    "\n",
    "    train_predict = model(df_x_ss)\n",
    "    predicted = train_predict.data.numpy()\n",
    "    label_y = df_y_ms.data.numpy()\n",
    "\n",
    "    predicted = ms.inverse_transform(predicted)\n",
    "    label_y = ms.inverse_transform(label_y)\n",
    "    \n",
    "    return predicted, label_y"
   ]
  },
  {
   "cell_type": "code",
   "execution_count": 8,
   "id": "9bfcbe71",
   "metadata": {
    "ExecuteTime": {
     "end_time": "2022-12-22T16:30:30.510663Z",
     "start_time": "2022-12-22T16:30:30.504681Z"
    }
   },
   "outputs": [],
   "source": [
    "def plot_chart(predictd, label_y):\n",
    "    plt.figure(figsize = (20, 10))\n",
    "    plt.axvline(x = train_cnt, c = 'r', linestyle = '--')\n",
    "\n",
    "    plt.plot(predicted, label = 'Predicted Data')\n",
    "    plt.plot(label_y, label = 'Actual Data')\n",
    "    plt.title('Time-Series Prediction')\n",
    "    plt.legend()\n",
    "    plt.show()"
   ]
  },
  {
   "cell_type": "code",
   "execution_count": 9,
   "id": "301ec858",
   "metadata": {
    "ExecuteTime": {
     "end_time": "2022-12-22T16:30:30.518641Z",
     "start_time": "2022-12-22T16:30:30.514655Z"
    }
   },
   "outputs": [],
   "source": [
    "def MAE(predicted, label_y):\n",
    "    return int(np.mean(np.abs(predicted[:-1] - label_y)))"
   ]
  },
  {
   "cell_type": "code",
   "execution_count": 10,
   "id": "786bb447",
   "metadata": {
    "ExecuteTime": {
     "end_time": "2022-12-22T16:30:30.584465Z",
     "start_time": "2022-12-22T16:30:30.580477Z"
    }
   },
   "outputs": [],
   "source": [
    "def Change(predicted, label_y):\n",
    "    return int(predicted[-1] - predicted[-2])"
   ]
  },
  {
   "cell_type": "code",
   "execution_count": 11,
   "id": "09af7b1a",
   "metadata": {
    "ExecuteTime": {
     "end_time": "2022-12-22T16:30:30.805874Z",
     "start_time": "2022-12-22T16:30:30.800887Z"
    }
   },
   "outputs": [],
   "source": [
    "def save_values(model, predicted, epoch, mae, change):\n",
    "    PATH = f\"../../Model/{name_list[i][0]}_{epoch}.pth\"\n",
    "    torch.save(model.state_dict(), PATH)\n",
    "    pd.DataFrame(predicted).to_csv(f\"../../Predict/MAE/{mae}_{name_list[i][0]}.csv\")\n",
    "    pd.DataFrame(predicted).to_csv(f\"../../Predict/Change/{change}_{name_list[i][0]}.csv\")"
   ]
  },
  {
   "cell_type": "code",
   "execution_count": null,
   "id": "62cc4253",
   "metadata": {},
   "outputs": [],
   "source": []
  },
  {
   "cell_type": "code",
   "execution_count": 37,
   "id": "b8fa8f35",
   "metadata": {
    "ExecuteTime": {
     "end_time": "2022-12-23T02:48:04.611251Z",
     "start_time": "2022-12-23T02:48:00.393535Z"
    }
   },
   "outputs": [
    {
     "ename": "IndexError",
     "evalue": "list index out of range",
     "output_type": "error",
     "traceback": [
      "\u001b[1;31m---------------------------------------------------------------------------\u001b[0m",
      "\u001b[1;31mIndexError\u001b[0m                                Traceback (most recent call last)",
      "Cell \u001b[1;32mIn[37], line 6\u001b[0m\n\u001b[0;32m      3\u001b[0m i \u001b[38;5;241m=\u001b[39m \u001b[38;5;241m769\u001b[39m\n\u001b[0;32m      5\u001b[0m \u001b[38;5;28;01mfor\u001b[39;00m file \u001b[38;5;129;01min\u001b[39;00m file_list:\n\u001b[1;32m----> 6\u001b[0m     df \u001b[38;5;241m=\u001b[39m \u001b[43mfile_list\u001b[49m\u001b[43m[\u001b[49m\u001b[43mi\u001b[49m\u001b[43m]\u001b[49m\n\u001b[0;32m      7\u001b[0m     X_train_tensors_f, X_test_tensors_f, y_train_tensors, y_test_tensors \u001b[38;5;241m=\u001b[39m scailing(df)\n\u001b[0;32m      8\u001b[0m     model, epoch \u001b[38;5;241m=\u001b[39m training(X_train_tensors_f, y_train_tensors)\n",
      "\u001b[1;31mIndexError\u001b[0m: list index out of range"
     ]
    }
   ],
   "source": [
    "file_list, name_list = load_files('../../Data2/*.csv')\n",
    "\n",
    "i = 769\n",
    "\n",
    "for file in file_list:\n",
    "    df = file_list[i]\n",
    "    X_train_tensors_f, X_test_tensors_f, y_train_tensors, y_test_tensors = scailing(df)\n",
    "    model, epoch = training(X_train_tensors_f, y_train_tensors)\n",
    "    predicted, label_y = predict(df, model)\n",
    "    #plot_chart(predicted, label_y)\n",
    "    mae = MAE(predicted, label_y)\n",
    "    change = Change(predicted, label_y)\n",
    "    save_values(model, predicted, epoch, mae, change)\n",
    "    print(i)\n",
    "    i += 1"
   ]
  },
  {
   "cell_type": "code",
   "execution_count": null,
   "id": "a5f42c3e",
   "metadata": {},
   "outputs": [],
   "source": []
  }
 ],
 "metadata": {
  "kernelspec": {
   "display_name": "KDA_DA",
   "language": "python",
   "name": "kda_da"
  },
  "language_info": {
   "codemirror_mode": {
    "name": "ipython",
    "version": 3
   },
   "file_extension": ".py",
   "mimetype": "text/x-python",
   "name": "python",
   "nbconvert_exporter": "python",
   "pygments_lexer": "ipython3",
   "version": "3.10.8"
  },
  "toc": {
   "base_numbering": 1,
   "nav_menu": {},
   "number_sections": true,
   "sideBar": true,
   "skip_h1_title": false,
   "title_cell": "Table of Contents",
   "title_sidebar": "Contents",
   "toc_cell": false,
   "toc_position": {},
   "toc_section_display": true,
   "toc_window_display": false
  }
 },
 "nbformat": 4,
 "nbformat_minor": 5
}
