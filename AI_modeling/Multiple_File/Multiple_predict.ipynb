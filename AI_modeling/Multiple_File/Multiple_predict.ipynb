{
 "cells": [
  {
   "cell_type": "code",
   "execution_count": 64,
   "id": "6bddb04f",
   "metadata": {
    "ExecuteTime": {
     "end_time": "2022-12-14T10:38:28.585821Z",
     "start_time": "2022-12-14T10:38:28.580828Z"
    }
   },
   "outputs": [],
   "source": [
    "import os\n",
    "import time\n",
    "import glob\n",
    "\n",
    "import numpy as np\n",
    "import pandas as pd\n",
    "import matplotlib.pyplot as plt\n",
    "from copy import deepcopy\n",
    "\n",
    "import torch\n",
    "import torch.nn as nn\n",
    "from torch.utils.data import TensorDataset, DataLoader\n",
    "from torch.autograd import Variable\n",
    "from tqdm import tqdm_notebook\n",
    "from sklearn.preprocessing import StandardScaler, MinMaxScaler\n",
    "from sklearn.model_selection import train_test_split\n",
    "\n",
    "device = torch.device('cuda:0' if torch.cuda.is_available() else 'cpu')"
   ]
  },
  {
   "cell_type": "code",
   "execution_count": 322,
   "id": "29367fd1",
   "metadata": {
    "ExecuteTime": {
     "end_time": "2022-12-14T13:16:20.112218Z",
     "start_time": "2022-12-14T13:16:20.108227Z"
    }
   },
   "outputs": [],
   "source": [
    "def load_files(path):\n",
    "    \n",
    "    names = glob.glob(path)\n",
    "    file_list = []\n",
    "    name_list = []\n",
    "    for i, name in enumerate(names):\n",
    "        assert len(name) == 22\n",
    "        name_list.append([name[12:18]])\n",
    "        sub = pd.read_csv(name)\n",
    "        file_list.append(sub)\n",
    "        \n",
    "    return file_list, name_list"
   ]
  },
  {
   "cell_type": "code",
   "execution_count": 171,
   "id": "190d2e80",
   "metadata": {
    "ExecuteTime": {
     "end_time": "2022-12-14T12:06:24.492931Z",
     "start_time": "2022-12-14T12:06:24.485949Z"
    }
   },
   "outputs": [],
   "source": [
    "def scailing(data):\n",
    "    data['Date'] = pd.to_datetime(data['Date'])\n",
    "    data.set_index('Date', inplace = True)\n",
    "    \n",
    "    X = data.iloc[:-1, 1:]\n",
    "    y = data.iloc[1:, :1]\n",
    "\n",
    "    ms = MinMaxScaler()\n",
    "    ss = StandardScaler()\n",
    "\n",
    "    X_ss = ss.fit_transform(X)\n",
    "    y_ms = ms.fit_transform(y)\n",
    "\n",
    "    ratios = [.8, .2]\n",
    "\n",
    "    train_cnt = int(len(data) * ratios[0])\n",
    "    test_cnt = int(len(data) * ratios[1])\n",
    "\n",
    "    X_train = X_ss[:train_cnt, :]\n",
    "    X_test = X_ss[train_cnt:, :]\n",
    "\n",
    "    y_train = y_ms[:train_cnt, :]\n",
    "    y_test = y_ms[train_cnt:, :]\n",
    "\n",
    "    X_train_tensors = Variable(torch.Tensor(X_train))\n",
    "    X_test_tensors = Variable(torch.Tensor(X_test))\n",
    "\n",
    "    y_train_tensors = Variable(torch.Tensor(y_train))\n",
    "    y_test_tensors = Variable(torch.Tensor(y_test))\n",
    "\n",
    "    X_train_tensors_f = torch.reshape(X_train_tensors, (X_train_tensors.shape[0], 1, X_train_tensors.shape[1]))\n",
    "    X_test_tensors_f = torch.reshape(X_test_tensors, (X_test_tensors.shape[0], 1, X_test_tensors.shape[1]))\n",
    "    \n",
    "    return X_train_tensors_f, X_test_tensors_f, y_train_tensors, y_test_tensors"
   ]
  },
  {
   "cell_type": "code",
   "execution_count": 172,
   "id": "a761c40d",
   "metadata": {
    "ExecuteTime": {
     "end_time": "2022-12-14T12:06:56.011607Z",
     "start_time": "2022-12-14T12:06:56.004627Z"
    }
   },
   "outputs": [],
   "source": [
    "class LSTM(nn.Module):\n",
    "    def __init__(self, num_classes, input_size, hidden_size, num_layers, seq_length):\n",
    "        super(LSTM, self).__init__()\n",
    "        self.num_classes = num_classes\n",
    "        self.num_layers = num_layers\n",
    "        self.input_size = input_size\n",
    "        self.hidden_size = hidden_size\n",
    "        self.seq_length = seq_length\n",
    "        \n",
    "        self.lstm = nn.LSTM(input_size = input_size, hidden_size = hidden_size, \n",
    "                           num_layers = num_layers, batch_first = True)\n",
    "        self.fc_1 = nn.Linear(hidden_size, 128)\n",
    "        self.fc = nn.Linear(128, num_classes)\n",
    "        self.relu = nn.ReLU()\n",
    "        \n",
    "    def forward(self, x):\n",
    "        h_0 = Variable(torch.zeros(self.num_layers, x.size(0), self.hidden_size))\n",
    "        c_0 = Variable(torch.zeros(self.num_layers, x.size(0), self.hidden_size))\n",
    "        output, (hn, cn) = self.lstm(x, (h_0, c_0))\n",
    "        hn = hn.view(-1, self.hidden_size)\n",
    "        out = self.relu(hn)\n",
    "        out = self.fc_1(out)\n",
    "        out = self.relu(out)\n",
    "        out = self.fc(out)\n",
    "        return out"
   ]
  },
  {
   "cell_type": "code",
   "execution_count": 173,
   "id": "f27e0dc4",
   "metadata": {
    "ExecuteTime": {
     "end_time": "2022-12-14T12:07:10.285420Z",
     "start_time": "2022-12-14T12:07:10.281429Z"
    }
   },
   "outputs": [],
   "source": [
    "class EarlyStopping:\n",
    "    def __init__(self, patience=5):\n",
    "        self.loss = np.inf\n",
    "        self.patience = 0\n",
    "        self.patience_limit = patience\n",
    "        \n",
    "    def step(self, loss):\n",
    "        if self.loss > loss:\n",
    "            self.loss = loss\n",
    "            self.patience = 0\n",
    "        else:\n",
    "            self.patience += 1\n",
    "    \n",
    "    def is_stop(self):\n",
    "        return self.patience >= self.patience_limit"
   ]
  },
  {
   "cell_type": "code",
   "execution_count": 249,
   "id": "cd8e75bb",
   "metadata": {
    "ExecuteTime": {
     "end_time": "2022-12-14T13:03:21.943092Z",
     "start_time": "2022-12-14T13:03:21.937108Z"
    }
   },
   "outputs": [],
   "source": [
    "def training(X_train_tensors_f, y_train_tensors):\n",
    "    num_epochs = 20000\n",
    "    learning_rate = 0.001\n",
    "\n",
    "    input_size = 5\n",
    "    hidden_size = 2\n",
    "    num_layers = 1\n",
    "\n",
    "    num_classes = 1\n",
    "    model = LSTM(num_classes, input_size, hidden_size, num_layers, X_train_tensors_f.shape[1])\n",
    "\n",
    "    criterion = torch.nn.MSELoss()\n",
    "    optimizer = torch.optim.Adam(model.parameters(), lr = learning_rate)\n",
    "\n",
    "    early_stop = EarlyStopping(patience=20)\n",
    "\n",
    "    for epoch in range(num_epochs):\n",
    "        outputs = model.forward(X_train_tensors_f)\n",
    "        optimizer.zero_grad()\n",
    "        loss = criterion(outputs, y_train_tensors)\n",
    "        early_stop.step(loss.item())\n",
    "\n",
    "        loss.backward()\n",
    "\n",
    "        optimizer.step()\n",
    "\n",
    "        if early_stop.is_stop():\n",
    "            break\n",
    "\n",
    "    return model, loss.item()"
   ]
  },
  {
   "cell_type": "code",
   "execution_count": 255,
   "id": "3cf0d2c8",
   "metadata": {
    "ExecuteTime": {
     "end_time": "2022-12-14T13:05:18.852317Z",
     "start_time": "2022-12-14T13:05:18.846333Z"
    }
   },
   "outputs": [],
   "source": [
    "def predict(df, model):\n",
    "    df_x_ss = ss.transform(data.iloc[:-1, 1:])\n",
    "    df_y_ms = ms.transform(data.iloc[1:, :1])\n",
    "\n",
    "    df_x_ss = Variable(torch.Tensor(df_x_ss))\n",
    "    df_y_ms = Variable(torch.Tensor(df_y_ms))\n",
    "    df_x_ss = torch.reshape(df_x_ss, (df_x_ss.shape[0], 1, df_x_ss.shape[1]))\n",
    "\n",
    "    train_predict = model(df_x_ss)\n",
    "    predicted = train_predict.data.numpy()\n",
    "    label_y = df_y_ms.data.numpy()\n",
    "\n",
    "    predicted = ms.inverse_transform(predicted)\n",
    "    label_y = ms.inverse_transform(label_y)\n",
    "    \n",
    "    return predicted, label_y"
   ]
  },
  {
   "cell_type": "code",
   "execution_count": 243,
   "id": "9bfcbe71",
   "metadata": {
    "ExecuteTime": {
     "end_time": "2022-12-14T12:52:25.316257Z",
     "start_time": "2022-12-14T12:52:25.311269Z"
    }
   },
   "outputs": [],
   "source": [
    "def plot_chart(predictd, label_y):\n",
    "    plt.figure(figsize = (20, 10))\n",
    "    plt.axvline(x = train_cnt, c = 'r', linestyle = '--')\n",
    "\n",
    "    plt.plot(predicted, label = 'Predicted Data')\n",
    "    plt.plot(label_y, label = 'Actual Data')\n",
    "    plt.title('Time-Series Prediction')\n",
    "    plt.legend()\n",
    "    plt.show()"
   ]
  },
  {
   "cell_type": "code",
   "execution_count": 326,
   "id": "301ec858",
   "metadata": {
    "ExecuteTime": {
     "end_time": "2022-12-14T13:17:00.458277Z",
     "start_time": "2022-12-14T13:17:00.454287Z"
    }
   },
   "outputs": [],
   "source": [
    "def MAE(true, pred):\n",
    "    return np.mean(np.abs(true-pred))"
   ]
  },
  {
   "cell_type": "code",
   "execution_count": 325,
   "id": "09af7b1a",
   "metadata": {
    "ExecuteTime": {
     "end_time": "2022-12-14T13:16:59.555691Z",
     "start_time": "2022-12-14T13:16:59.550704Z"
    }
   },
   "outputs": [],
   "source": [
    "def save_values(model, label_y, predicted):\n",
    "    PATH = f\"../../Model/%d.pth\" % name_list[i]\n",
    "    torch.save(model.state_dict(), PATH)\n",
    "    "
   ]
  },
  {
   "cell_type": "code",
   "execution_count": 323,
   "id": "b8fa8f35",
   "metadata": {
    "ExecuteTime": {
     "end_time": "2022-12-14T13:16:31.910651Z",
     "start_time": "2022-12-14T13:16:27.334893Z"
    }
   },
   "outputs": [],
   "source": [
    "file_list, name_list = load_files('../../Data2/*.csv')\n"
   ]
  },
  {
   "cell_type": "code",
   "execution_count": 324,
   "id": "dd7fc026",
   "metadata": {
    "ExecuteTime": {
     "end_time": "2022-12-14T13:16:34.005073Z",
     "start_time": "2022-12-14T13:16:33.985101Z"
    }
   },
   "outputs": [
    {
     "data": {
      "text/plain": [
       "[['000020'],\n",
       " ['000030'],\n",
       " ['000040'],\n",
       " ['000050'],\n",
       " ['000060'],\n",
       " ['000070'],\n",
       " ['000080'],\n",
       " ['000100'],\n",
       " ['000120'],\n",
       " ['000140'],\n",
       " ['000150'],\n",
       " ['000180'],\n",
       " ['000210'],\n",
       " ['000220'],\n",
       " ['000230'],\n",
       " ['000240'],\n",
       " ['000270'],\n",
       " ['000300'],\n",
       " ['000320'],\n",
       " ['000370'],\n",
       " ['000390'],\n",
       " ['000400'],\n",
       " ['000430'],\n",
       " ['000480'],\n",
       " ['000490'],\n",
       " ['000500'],\n",
       " ['000520'],\n",
       " ['000540'],\n",
       " ['000590'],\n",
       " ['000640'],\n",
       " ['000650'],\n",
       " ['000660'],\n",
       " ['000670'],\n",
       " ['000680'],\n",
       " ['000700'],\n",
       " ['000720'],\n",
       " ['000760'],\n",
       " ['000810'],\n",
       " ['000850'],\n",
       " ['000860'],\n",
       " ['000880'],\n",
       " ['000890'],\n",
       " ['000910'],\n",
       " ['000950'],\n",
       " ['000970'],\n",
       " ['000990'],\n",
       " ['001020'],\n",
       " ['001040'],\n",
       " ['001060'],\n",
       " ['001070'],\n",
       " ['001080'],\n",
       " ['001120'],\n",
       " ['001130'],\n",
       " ['001140'],\n",
       " ['001200'],\n",
       " ['001210'],\n",
       " ['001230'],\n",
       " ['001250'],\n",
       " ['001260'],\n",
       " ['001270'],\n",
       " ['001290'],\n",
       " ['001340'],\n",
       " ['001360'],\n",
       " ['001380'],\n",
       " ['001390'],\n",
       " ['001420'],\n",
       " ['001430'],\n",
       " ['001440'],\n",
       " ['001450'],\n",
       " ['001460'],\n",
       " ['001470'],\n",
       " ['001500'],\n",
       " ['001510'],\n",
       " ['001520'],\n",
       " ['001530'],\n",
       " ['001550'],\n",
       " ['001560'],\n",
       " ['001570'],\n",
       " ['001620'],\n",
       " ['001630'],\n",
       " ['001680'],\n",
       " ['001720'],\n",
       " ['001740'],\n",
       " ['001750'],\n",
       " ['001770'],\n",
       " ['001780'],\n",
       " ['001790'],\n",
       " ['001800'],\n",
       " ['001820'],\n",
       " ['001880'],\n",
       " ['001940'],\n",
       " ['002000'],\n",
       " ['002020'],\n",
       " ['002030'],\n",
       " ['002070'],\n",
       " ['002100'],\n",
       " ['002140'],\n",
       " ['002150'],\n",
       " ['002170'],\n",
       " ['002200'],\n",
       " ['002210'],\n",
       " ['002220'],\n",
       " ['002240'],\n",
       " ['002250'],\n",
       " ['002270'],\n",
       " ['002300'],\n",
       " ['002310'],\n",
       " ['002320'],\n",
       " ['002350'],\n",
       " ['002360'],\n",
       " ['002380'],\n",
       " ['002390'],\n",
       " ['002410'],\n",
       " ['002420'],\n",
       " ['002450'],\n",
       " ['002460'],\n",
       " ['002550'],\n",
       " ['002600'],\n",
       " ['002620'],\n",
       " ['002630'],\n",
       " ['002690'],\n",
       " ['002700'],\n",
       " ['002710'],\n",
       " ['002720'],\n",
       " ['002760'],\n",
       " ['002780'],\n",
       " ['002790'],\n",
       " ['002810'],\n",
       " ['002820'],\n",
       " ['002840'],\n",
       " ['002870'],\n",
       " ['002880'],\n",
       " ['002900'],\n",
       " ['002920'],\n",
       " ['002960'],\n",
       " ['002990'],\n",
       " ['003000'],\n",
       " ['003010'],\n",
       " ['003030'],\n",
       " ['003060'],\n",
       " ['003070'],\n",
       " ['003080'],\n",
       " ['003090'],\n",
       " ['003120'],\n",
       " ['003160'],\n",
       " ['003200'],\n",
       " ['003220'],\n",
       " ['003230'],\n",
       " ['003240'],\n",
       " ['003280'],\n",
       " ['003300'],\n",
       " ['003350'],\n",
       " ['003410'],\n",
       " ['003460'],\n",
       " ['003470'],\n",
       " ['003480'],\n",
       " ['003490'],\n",
       " ['003520'],\n",
       " ['003530'],\n",
       " ['003540'],\n",
       " ['003550'],\n",
       " ['003560'],\n",
       " ['003570'],\n",
       " ['003580'],\n",
       " ['003610'],\n",
       " ['003620'],\n",
       " ['003650'],\n",
       " ['003680'],\n",
       " ['003690'],\n",
       " ['003720'],\n",
       " ['003780'],\n",
       " ['003830'],\n",
       " ['003850'],\n",
       " ['003920'],\n",
       " ['003960'],\n",
       " ['004000'],\n",
       " ['004020'],\n",
       " ['004060'],\n",
       " ['004080'],\n",
       " ['004090'],\n",
       " ['004100'],\n",
       " ['004130'],\n",
       " ['004140'],\n",
       " ['004150'],\n",
       " ['004170'],\n",
       " ['004200'],\n",
       " ['004250'],\n",
       " ['004270'],\n",
       " ['004310'],\n",
       " ['004360'],\n",
       " ['004370'],\n",
       " ['004380'],\n",
       " ['004410'],\n",
       " ['004430'],\n",
       " ['004440'],\n",
       " ['004450'],\n",
       " ['004490'],\n",
       " ['004540'],\n",
       " ['004560'],\n",
       " ['004690'],\n",
       " ['004700'],\n",
       " ['004710'],\n",
       " ['004720'],\n",
       " ['004770'],\n",
       " ['004800'],\n",
       " ['004830'],\n",
       " ['004840'],\n",
       " ['004870'],\n",
       " ['004890'],\n",
       " ['004910'],\n",
       " ['004920'],\n",
       " ['004960'],\n",
       " ['004970'],\n",
       " ['004980'],\n",
       " ['004990'],\n",
       " ['005010'],\n",
       " ['005030'],\n",
       " ['005070'],\n",
       " ['005090'],\n",
       " ['005110'],\n",
       " ['005180'],\n",
       " ['005190'],\n",
       " ['005250'],\n",
       " ['005300'],\n",
       " ['005320'],\n",
       " ['005360'],\n",
       " ['005380'],\n",
       " ['005390'],\n",
       " ['005420'],\n",
       " ['005430'],\n",
       " ['005440'],\n",
       " ['005450'],\n",
       " ['005490'],\n",
       " ['005500'],\n",
       " ['005610'],\n",
       " ['005620'],\n",
       " ['005680'],\n",
       " ['005690'],\n",
       " ['005720'],\n",
       " ['005740'],\n",
       " ['005750'],\n",
       " ['005800'],\n",
       " ['005810'],\n",
       " ['005820'],\n",
       " ['005830'],\n",
       " ['005850'],\n",
       " ['005870'],\n",
       " ['005880'],\n",
       " ['005930'],\n",
       " ['005940'],\n",
       " ['005950'],\n",
       " ['005960'],\n",
       " ['005980'],\n",
       " ['006040'],\n",
       " ['006060'],\n",
       " ['006090'],\n",
       " ['006110'],\n",
       " ['006120'],\n",
       " ['006200'],\n",
       " ['006220'],\n",
       " ['006260'],\n",
       " ['006280'],\n",
       " ['006340'],\n",
       " ['006360'],\n",
       " ['006370'],\n",
       " ['006380'],\n",
       " ['006390'],\n",
       " ['006400'],\n",
       " ['006490'],\n",
       " ['006570'],\n",
       " ['006650'],\n",
       " ['006660'],\n",
       " ['006740'],\n",
       " ['006800'],\n",
       " ['006840'],\n",
       " ['006880'],\n",
       " ['006890'],\n",
       " ['006980'],\n",
       " ['007070'],\n",
       " ['007110'],\n",
       " ['007120'],\n",
       " ['007160'],\n",
       " ['007210'],\n",
       " ['007280'],\n",
       " ['007310'],\n",
       " ['007340'],\n",
       " ['007460'],\n",
       " ['007540'],\n",
       " ['007570'],\n",
       " ['007590'],\n",
       " ['007610'],\n",
       " ['007630'],\n",
       " ['007660'],\n",
       " ['007690'],\n",
       " ['007700'],\n",
       " ['007810'],\n",
       " ['007860'],\n",
       " ['007980'],\n",
       " ['008000'],\n",
       " ['008040'],\n",
       " ['008060'],\n",
       " ['008110'],\n",
       " ['008250'],\n",
       " ['008260'],\n",
       " ['008350'],\n",
       " ['008420'],\n",
       " ['008490'],\n",
       " ['008500'],\n",
       " ['008560'],\n",
       " ['008600'],\n",
       " ['008700'],\n",
       " ['008730'],\n",
       " ['008770'],\n",
       " ['008870'],\n",
       " ['008930'],\n",
       " ['008970'],\n",
       " ['009070'],\n",
       " ['009140'],\n",
       " ['009150'],\n",
       " ['009160'],\n",
       " ['009180'],\n",
       " ['009190'],\n",
       " ['009200'],\n",
       " ['009240'],\n",
       " ['009270'],\n",
       " ['009290'],\n",
       " ['009310'],\n",
       " ['009320'],\n",
       " ['009410'],\n",
       " ['009420'],\n",
       " ['009440'],\n",
       " ['009450'],\n",
       " ['009460'],\n",
       " ['009470'],\n",
       " ['009540'],\n",
       " ['009580'],\n",
       " ['009680'],\n",
       " ['009770'],\n",
       " ['009810'],\n",
       " ['009830'],\n",
       " ['009970'],\n",
       " ['010040'],\n",
       " ['010050'],\n",
       " ['010060'],\n",
       " ['010100'],\n",
       " ['010120'],\n",
       " ['010130'],\n",
       " ['010140'],\n",
       " ['010420'],\n",
       " ['010580'],\n",
       " ['010600'],\n",
       " ['010620'],\n",
       " ['010640'],\n",
       " ['010660'],\n",
       " ['010690'],\n",
       " ['010770'],\n",
       " ['010780'],\n",
       " ['010820'],\n",
       " ['010950'],\n",
       " ['010960'],\n",
       " ['011000'],\n",
       " ['011070'],\n",
       " ['011090'],\n",
       " ['011150'],\n",
       " ['011160'],\n",
       " ['011170'],\n",
       " ['011200'],\n",
       " ['011210'],\n",
       " ['011230'],\n",
       " ['011280'],\n",
       " ['011300'],\n",
       " ['011330'],\n",
       " ['011390'],\n",
       " ['011420'],\n",
       " ['011500'],\n",
       " ['011690'],\n",
       " ['011700'],\n",
       " ['011760'],\n",
       " ['011780'],\n",
       " ['011790'],\n",
       " ['011810'],\n",
       " ['011930'],\n",
       " ['012030'],\n",
       " ['012160'],\n",
       " ['012170'],\n",
       " ['012200'],\n",
       " ['012280'],\n",
       " ['012320'],\n",
       " ['012330'],\n",
       " ['012450'],\n",
       " ['012510'],\n",
       " ['012600'],\n",
       " ['012610'],\n",
       " ['012630'],\n",
       " ['012690'],\n",
       " ['012750'],\n",
       " ['012800'],\n",
       " ['013000'],\n",
       " ['013360'],\n",
       " ['013520'],\n",
       " ['013570'],\n",
       " ['013580'],\n",
       " ['013700'],\n",
       " ['013870'],\n",
       " ['014130'],\n",
       " ['014160'],\n",
       " ['014280'],\n",
       " ['014440'],\n",
       " ['014530'],\n",
       " ['014580'],\n",
       " ['014680'],\n",
       " ['014710'],\n",
       " ['014790'],\n",
       " ['014820'],\n",
       " ['014830'],\n",
       " ['014910'],\n",
       " ['014990'],\n",
       " ['015020'],\n",
       " ['015230'],\n",
       " ['015260'],\n",
       " ['015350'],\n",
       " ['015360'],\n",
       " ['015540'],\n",
       " ['015590'],\n",
       " ['015760'],\n",
       " ['015860'],\n",
       " ['015890'],\n",
       " ['016090'],\n",
       " ['016360'],\n",
       " ['016380'],\n",
       " ['016450'],\n",
       " ['016580'],\n",
       " ['016590'],\n",
       " ['016610'],\n",
       " ['016710'],\n",
       " ['016740'],\n",
       " ['016800'],\n",
       " ['016880'],\n",
       " ['017040'],\n",
       " ['017180'],\n",
       " ['017370'],\n",
       " ['017390'],\n",
       " ['017550'],\n",
       " ['017670'],\n",
       " ['017800'],\n",
       " ['017810'],\n",
       " ['017900'],\n",
       " ['017940'],\n",
       " ['017960'],\n",
       " ['018260'],\n",
       " ['018470'],\n",
       " ['018500'],\n",
       " ['018670'],\n",
       " ['018880'],\n",
       " ['019170'],\n",
       " ['019180'],\n",
       " ['019440'],\n",
       " ['019490'],\n",
       " ['019680'],\n",
       " ['020000'],\n",
       " ['020120'],\n",
       " ['020150'],\n",
       " ['020560'],\n",
       " ['020760'],\n",
       " ['021050'],\n",
       " ['021240'],\n",
       " ['021820'],\n",
       " ['021960'],\n",
       " ['023000'],\n",
       " ['023150'],\n",
       " ['023350'],\n",
       " ['023450'],\n",
       " ['023530'],\n",
       " ['023590'],\n",
       " ['023800'],\n",
       " ['023810'],\n",
       " ['023960'],\n",
       " ['024070'],\n",
       " ['024090'],\n",
       " ['024110'],\n",
       " ['024720'],\n",
       " ['024890'],\n",
       " ['024900'],\n",
       " ['025000'],\n",
       " ['025530'],\n",
       " ['025540'],\n",
       " ['025560'],\n",
       " ['025620'],\n",
       " ['025750'],\n",
       " ['025820'],\n",
       " ['025860'],\n",
       " ['025890'],\n",
       " ['026890'],\n",
       " ['026940'],\n",
       " ['026960'],\n",
       " ['027390'],\n",
       " ['027410'],\n",
       " ['027740'],\n",
       " ['027970'],\n",
       " ['028050'],\n",
       " ['028100'],\n",
       " ['028260'],\n",
       " ['028670'],\n",
       " ['029460'],\n",
       " ['029530'],\n",
       " ['029780'],\n",
       " ['030000'],\n",
       " ['030200'],\n",
       " ['030210'],\n",
       " ['030610'],\n",
       " ['030720'],\n",
       " ['030790'],\n",
       " ['031430'],\n",
       " ['031440'],\n",
       " ['031820'],\n",
       " ['032350'],\n",
       " ['032560'],\n",
       " ['032640'],\n",
       " ['032830'],\n",
       " ['033180'],\n",
       " ['033240'],\n",
       " ['033250'],\n",
       " ['033270'],\n",
       " ['033530'],\n",
       " ['033660'],\n",
       " ['033780'],\n",
       " ['033920'],\n",
       " ['034020'],\n",
       " ['034120'],\n",
       " ['034220'],\n",
       " ['034300'],\n",
       " ['034310'],\n",
       " ['034590'],\n",
       " ['034730'],\n",
       " ['034830'],\n",
       " ['035000'],\n",
       " ['035150'],\n",
       " ['035250'],\n",
       " ['035420'],\n",
       " ['035510'],\n",
       " ['036460'],\n",
       " ['036530'],\n",
       " ['036570'],\n",
       " ['036580'],\n",
       " ['037270'],\n",
       " ['037560'],\n",
       " ['037710'],\n",
       " ['039130'],\n",
       " ['039490'],\n",
       " ['039570'],\n",
       " ['041650'],\n",
       " ['042660'],\n",
       " ['042670'],\n",
       " ['042700'],\n",
       " ['044380'],\n",
       " ['044450'],\n",
       " ['044820'],\n",
       " ['047040'],\n",
       " ['047050'],\n",
       " ['047400'],\n",
       " ['047810'],\n",
       " ['049770'],\n",
       " ['049800'],\n",
       " ['051600'],\n",
       " ['051630'],\n",
       " ['051900'],\n",
       " ['051910'],\n",
       " ['052690'],\n",
       " ['053210'],\n",
       " ['053690'],\n",
       " ['055550'],\n",
       " ['057050'],\n",
       " ['058430'],\n",
       " ['058650'],\n",
       " ['058730'],\n",
       " ['058850'],\n",
       " ['058860'],\n",
       " ['060980'],\n",
       " ['063160'],\n",
       " ['064350'],\n",
       " ['064960'],\n",
       " ['066570'],\n",
       " ['067830'],\n",
       " ['068290'],\n",
       " ['068400'],\n",
       " ['069260'],\n",
       " ['069460'],\n",
       " ['069620'],\n",
       " ['069640'],\n",
       " ['069730'],\n",
       " ['069960'],\n",
       " ['070960'],\n",
       " ['071050'],\n",
       " ['071090'],\n",
       " ['071320'],\n",
       " ['071840'],\n",
       " ['071950'],\n",
       " ['071970'],\n",
       " ['072130'],\n",
       " ['072710'],\n",
       " ['073240'],\n",
       " ['074610'],\n",
       " ['075180'],\n",
       " ['075580'],\n",
       " ['077500'],\n",
       " ['077970'],\n",
       " ['078000'],\n",
       " ['078520'],\n",
       " ['078930'],\n",
       " ['079160'],\n",
       " ['079430'],\n",
       " ['079440'],\n",
       " ['079550'],\n",
       " ['079660'],\n",
       " ['079980'],\n",
       " ['081000'],\n",
       " ['081660'],\n",
       " ['082640'],\n",
       " ['082740'],\n",
       " ['083370'],\n",
       " ['083380'],\n",
       " ['083420'],\n",
       " ['083620'],\n",
       " ['084010'],\n",
       " ['084670'],\n",
       " ['084680'],\n",
       " ['084690'],\n",
       " ['084870'],\n",
       " ['085310'],\n",
       " ['085620'],\n",
       " ['086280'],\n",
       " ['086790'],\n",
       " ['088350'],\n",
       " ['088790'],\n",
       " ['088980'],\n",
       " ['089470'],\n",
       " ['089590'],\n",
       " ['090080'],\n",
       " ['090350'],\n",
       " ['090370'],\n",
       " ['090430'],\n",
       " ['091090'],\n",
       " ['092200'],\n",
       " ['092220'],\n",
       " ['092230'],\n",
       " ['092440'],\n",
       " ['093050'],\n",
       " ['093230'],\n",
       " ['093240'],\n",
       " ['093370'],\n",
       " ['094280'],\n",
       " ['094800'],\n",
       " ['095570'],\n",
       " ['095720'],\n",
       " ['096300'],\n",
       " ['096760'],\n",
       " ['096770'],\n",
       " ['097230'],\n",
       " ['097950'],\n",
       " ['099340'],\n",
       " ['099350'],\n",
       " ['100220'],\n",
       " ['100250'],\n",
       " ['100840'],\n",
       " ['101060'],\n",
       " ['101140'],\n",
       " ['101530'],\n",
       " ['102260'],\n",
       " ['102280'],\n",
       " ['102460'],\n",
       " ['103130'],\n",
       " ['103140'],\n",
       " ['103590'],\n",
       " ['104700'],\n",
       " ['105560'],\n",
       " ['105630'],\n",
       " ['105840'],\n",
       " ['107590'],\n",
       " ['108670'],\n",
       " ['109070'],\n",
       " ['111110'],\n",
       " ['111770'],\n",
       " ['112610'],\n",
       " ['114090'],\n",
       " ['115390'],\n",
       " ['117580'],\n",
       " ['118000'],\n",
       " ['119650'],\n",
       " ['120030'],\n",
       " ['120110'],\n",
       " ['122900'],\n",
       " ['123690'],\n",
       " ['123700'],\n",
       " ['123890'],\n",
       " ['126560'],\n",
       " ['128820'],\n",
       " ['128940'],\n",
       " ['129260'],\n",
       " ['130660'],\n",
       " ['133820'],\n",
       " ['134380'],\n",
       " ['134790'],\n",
       " ['136490'],\n",
       " ['138040'],\n",
       " ['138250'],\n",
       " ['138490'],\n",
       " ['138930'],\n",
       " ['139130'],\n",
       " ['139480'],\n",
       " ['140890'],\n",
       " ['140910'],\n",
       " ['143210'],\n",
       " ['144620'],\n",
       " ['145210'],\n",
       " ['145270'],\n",
       " ['145720'],\n",
       " ['145990'],\n",
       " ['152330'],\n",
       " ['152550'],\n",
       " ['153360'],\n",
       " ['155660'],\n",
       " ['155900'],\n",
       " ['159650'],\n",
       " ['161000'],\n",
       " ['161390'],\n",
       " ['161890'],\n",
       " ['163560'],\n",
       " ['168490'],\n",
       " ['170900'],\n",
       " ['172580'],\n",
       " ['175330'],\n",
       " ['180640'],\n",
       " ['181710'],\n",
       " ['183190'],\n",
       " ['185750'],\n",
       " ['192400'],\n",
       " ['192530'],\n",
       " ['192820'],\n",
       " ['194370'],\n",
       " ['195870'],\n",
       " ['200880'],\n",
       " ['204210'],\n",
       " ['204320'],\n",
       " ['207940'],\n",
       " ['210540'],\n",
       " ['210980'],\n",
       " ['213500'],\n",
       " ['214320'],\n",
       " ['214330'],\n",
       " ['214390'],\n",
       " ['214420'],\n",
       " ['226320'],\n",
       " ['227840'],\n",
       " ['229640'],\n",
       " ['234080'],\n",
       " ['241560'],\n",
       " ['241590'],\n",
       " ['248170'],\n",
       " ['249420'],\n",
       " ['251270'],\n",
       " ['264900'],\n",
       " ['267250'],\n",
       " ['267260'],\n",
       " ['267270'],\n",
       " ['267290'],\n",
       " ['268280'],\n",
       " ['900050'],\n",
       " ['900140']]"
      ]
     },
     "execution_count": 324,
     "metadata": {},
     "output_type": "execute_result"
    }
   ],
   "source": [
    "name_list"
   ]
  },
  {
   "cell_type": "code",
   "execution_count": 317,
   "id": "b295b738",
   "metadata": {
    "ExecuteTime": {
     "end_time": "2022-12-14T13:15:16.958178Z",
     "start_time": "2022-12-14T13:15:16.955186Z"
    }
   },
   "outputs": [],
   "source": [
    "c.append([names[1][12:18]])"
   ]
  },
  {
   "cell_type": "code",
   "execution_count": 318,
   "id": "cb0d1a81",
   "metadata": {
    "ExecuteTime": {
     "end_time": "2022-12-14T13:15:17.336166Z",
     "start_time": "2022-12-14T13:15:17.331178Z"
    }
   },
   "outputs": [
    {
     "data": {
      "text/plain": [
       "['000020', '000030', ['000030']]"
      ]
     },
     "execution_count": 318,
     "metadata": {},
     "output_type": "execute_result"
    }
   ],
   "source": [
    "c"
   ]
  },
  {
   "cell_type": "code",
   "execution_count": 304,
   "id": "14231dc5",
   "metadata": {
    "ExecuteTime": {
     "end_time": "2022-12-14T13:14:31.217549Z",
     "start_time": "2022-12-14T13:14:31.212564Z"
    }
   },
   "outputs": [
    {
     "data": {
      "text/plain": [
       "[]"
      ]
     },
     "execution_count": 304,
     "metadata": {},
     "output_type": "execute_result"
    }
   ],
   "source": [
    "a = []\n",
    "a"
   ]
  },
  {
   "cell_type": "code",
   "execution_count": 311,
   "id": "2e4dcd14",
   "metadata": {
    "ExecuteTime": {
     "end_time": "2022-12-14T13:14:58.832670Z",
     "start_time": "2022-12-14T13:14:58.828680Z"
    }
   },
   "outputs": [],
   "source": [
    "a.append(names[1][12:18])"
   ]
  },
  {
   "cell_type": "code",
   "execution_count": 307,
   "id": "27f6deb4",
   "metadata": {
    "ExecuteTime": {
     "end_time": "2022-12-14T13:14:42.796573Z",
     "start_time": "2022-12-14T13:14:42.793582Z"
    }
   },
   "outputs": [],
   "source": [
    "a.append('0203')"
   ]
  },
  {
   "cell_type": "code",
   "execution_count": 312,
   "id": "e38e918f",
   "metadata": {
    "ExecuteTime": {
     "end_time": "2022-12-14T13:15:00.185051Z",
     "start_time": "2022-12-14T13:15:00.181063Z"
    }
   },
   "outputs": [
    {
     "data": {
      "text/plain": [
       "['s', '0203', '000020', '000030']"
      ]
     },
     "execution_count": 312,
     "metadata": {},
     "output_type": "execute_result"
    }
   ],
   "source": [
    "a"
   ]
  },
  {
   "cell_type": "code",
   "execution_count": null,
   "id": "2ea3d861",
   "metadata": {},
   "outputs": [],
   "source": []
  },
  {
   "cell_type": "code",
   "execution_count": null,
   "id": "339881bb",
   "metadata": {},
   "outputs": [],
   "source": []
  },
  {
   "cell_type": "code",
   "execution_count": 247,
   "id": "4e5494e3",
   "metadata": {
    "ExecuteTime": {
     "end_time": "2022-12-14T13:02:33.854309Z",
     "start_time": "2022-12-14T13:02:33.838353Z"
    }
   },
   "outputs": [
    {
     "name": "stdout",
     "output_type": "stream",
     "text": [
      "Date          object\n",
      "Open         float64\n",
      "High         float64\n",
      "Low          float64\n",
      "Close        float64\n",
      "Adj Close    float64\n",
      "Volume         int64\n",
      "dtype: object\n"
     ]
    }
   ],
   "source": [
    "data = pd.read_csv('../../Data2/000020.csv')\n",
    "print(data.dtypes)"
   ]
  },
  {
   "cell_type": "code",
   "execution_count": 248,
   "id": "6636c743",
   "metadata": {
    "ExecuteTime": {
     "end_time": "2022-12-14T13:02:34.027846Z",
     "start_time": "2022-12-14T13:02:34.012886Z"
    }
   },
   "outputs": [],
   "source": [
    "X1, X2, y1, y2 = scailing(data)"
   ]
  },
  {
   "cell_type": "code",
   "execution_count": 251,
   "id": "ae96cc8c",
   "metadata": {
    "ExecuteTime": {
     "end_time": "2022-12-14T13:04:03.398184Z",
     "start_time": "2022-12-14T13:03:38.575594Z"
    }
   },
   "outputs": [],
   "source": [
    "model1, loss1 = training(X1, y1)"
   ]
  },
  {
   "cell_type": "code",
   "execution_count": 256,
   "id": "283bb5b4",
   "metadata": {
    "ExecuteTime": {
     "end_time": "2022-12-14T13:05:25.725953Z",
     "start_time": "2022-12-14T13:05:25.711966Z"
    }
   },
   "outputs": [],
   "source": [
    "p1, ly1 = predict(data, model1)"
   ]
  },
  {
   "cell_type": "code",
   "execution_count": 267,
   "id": "1acce123",
   "metadata": {
    "ExecuteTime": {
     "end_time": "2022-12-14T13:07:01.687225Z",
     "start_time": "2022-12-14T13:07:01.499698Z"
    }
   },
   "outputs": [
    {
     "data": {
      "image/png": "[encoded data removed]",
      "text/plain": [
       "<Figure size 1440x720 with 1 Axes>"
      ]
     },
     "metadata": {
      "needs_background": "light"
     },
     "output_type": "display_data"
    }
   ],
   "source": [
    "plot_chart(p1, ly1)"
   ]
  },
  {
   "cell_type": "code",
   "execution_count": 269,
   "id": "838aa4e6",
   "metadata": {
    "ExecuteTime": {
     "end_time": "2022-12-14T13:08:09.379095Z",
     "start_time": "2022-12-14T13:08:09.374110Z"
    }
   },
   "outputs": [
    {
     "data": {
      "text/plain": [
       "122.66531"
      ]
     },
     "execution_count": 269,
     "metadata": {},
     "output_type": "execute_result"
    }
   ],
   "source": [
    "MAE(p1, ly1)"
   ]
  },
  {
   "cell_type": "code",
   "execution_count": 268,
   "id": "c0bbc0a8",
   "metadata": {
    "ExecuteTime": {
     "end_time": "2022-12-14T13:07:02.790245Z",
     "start_time": "2022-12-14T13:07:02.783265Z"
    }
   },
   "outputs": [],
   "source": [
    "save_values(model1, p1, ly1)"
   ]
  },
  {
   "cell_type": "code",
   "execution_count": null,
   "id": "41b2c9a6",
   "metadata": {},
   "outputs": [],
   "source": []
  },
  {
   "cell_type": "code",
   "execution_count": null,
   "id": "95e0895a",
   "metadata": {},
   "outputs": [],
   "source": []
  },
  {
   "cell_type": "code",
   "execution_count": null,
   "id": "103563a4",
   "metadata": {},
   "outputs": [],
   "source": []
  },
  {
   "cell_type": "code",
   "execution_count": null,
   "id": "1b71d885",
   "metadata": {},
   "outputs": [],
   "source": []
  },
  {
   "cell_type": "code",
   "execution_count": null,
   "id": "c84f0523",
   "metadata": {},
   "outputs": [],
   "source": []
  },
  {
   "cell_type": "code",
   "execution_count": null,
   "id": "2ea3c130",
   "metadata": {},
   "outputs": [],
   "source": []
  },
  {
   "cell_type": "code",
   "execution_count": 66,
   "id": "3d020172",
   "metadata": {
    "ExecuteTime": {
     "end_time": "2022-12-14T10:38:29.005699Z",
     "start_time": "2022-12-14T10:38:28.996721Z"
    }
   },
   "outputs": [],
   "source": [
    "data['Date'] = pd.to_datetime(data['Date'])\n",
    "data.set_index('Date', inplace = True)"
   ]
  },
  {
   "cell_type": "code",
   "execution_count": 212,
   "id": "8b1ea867",
   "metadata": {
    "ExecuteTime": {
     "end_time": "2022-12-14T12:42:28.062128Z",
     "start_time": "2022-12-14T12:42:28.052155Z"
    }
   },
   "outputs": [
    {
     "name": "stdout",
     "output_type": "stream",
     "text": [
      "                   High          Low         Close    Adj Close   Volume\n",
      "Date                                                                    \n",
      "2000-01-04  3110.570068  2658.120117  15552.850586  2752.192383   898582\n",
      "2000-01-05  3572.439941  2940.899902  16495.451172  2918.992432  3865389\n",
      "2000-01-06  3468.750000  2808.939941  14327.450195  2535.348633  1382353\n",
      "2000-01-07  3289.659912  2827.790039  16448.298828  2910.648682  2402938\n",
      "2000-01-10  3694.979980  3157.699951  16024.150391  2835.592041  3993227\n",
      "...                 ...          ...           ...          ...      ...\n",
      "2017-06-30  8540.000000  8410.000000   8470.000000  8470.000000    48558\n",
      "2017-07-03  8510.000000  8410.000000   8440.000000  8440.000000    25073\n",
      "2017-07-04  8490.000000  8370.000000   8430.000000  8430.000000    44152\n",
      "2017-07-05  8440.000000  8300.000000   8340.000000  8340.000000    62841\n",
      "2017-07-06  8420.000000  8300.000000   8400.000000  8400.000000    48957\n",
      "\n",
      "[4321 rows x 5 columns]\n",
      "                   Open\n",
      "Date                   \n",
      "2000-01-05  3167.120117\n",
      "2000-01-06  3299.090088\n",
      "2000-01-07  2978.600098\n",
      "2000-01-10  3638.419922\n",
      "2000-01-11  3204.830078\n",
      "...                 ...\n",
      "2017-07-03  8470.000000\n",
      "2017-07-04  8450.000000\n",
      "2017-07-05  8430.000000\n",
      "2017-07-06  8340.000000\n",
      "2017-07-07  8370.000000\n",
      "\n",
      "[4321 rows x 1 columns]\n"
     ]
    }
   ],
   "source": [
    "X = data.iloc[:-1, 1:]\n",
    "y = data.iloc[1:, :1]\n",
    "print(X)\n",
    "print(y)"
   ]
  },
  {
   "cell_type": "code",
   "execution_count": 213,
   "id": "e5c1a212",
   "metadata": {
    "ExecuteTime": {
     "end_time": "2022-12-14T12:42:31.206715Z",
     "start_time": "2022-12-14T12:42:31.193749Z"
    }
   },
   "outputs": [
    {
     "name": "stdout",
     "output_type": "stream",
     "text": [
      "Training Shape (3457, 5) (3457, 1)\n",
      "Validing Shape (0, 5) (0, 1)\n",
      "Testing Shape (864, 5) (864, 1)\n"
     ]
    }
   ],
   "source": [
    "ms = MinMaxScaler()\n",
    "ss = StandardScaler()\n",
    "\n",
    "X_ss = ss.fit_transform(X)\n",
    "y_ms = ms.fit_transform(y)\n",
    "\n",
    "ratios = [.8, 0, 0.2]\n",
    "\n",
    "train_cnt = int(len(data) * ratios[0])\n",
    "valid_cnt = int(len(data) * ratios[1])\n",
    "test_cnt = int(len(data) * ratios[2])\n",
    "\n",
    "X_train = X_ss[:train_cnt, :]\n",
    "X_valid = X_ss[train_cnt:train_cnt + valid_cnt, :]\n",
    "X_test = X_ss[train_cnt + valid_cnt:, :]\n",
    "\n",
    "y_train = y_ms[:train_cnt, :]\n",
    "y_valid = y_ms[train_cnt:train_cnt + valid_cnt, :]\n",
    "y_test = y_ms[train_cnt + valid_cnt:, :]\n",
    "\n",
    "print(\"Training Shape\", X_train.shape, y_train.shape)\n",
    "print(\"Validing Shape\", X_valid.shape, y_valid.shape)\n",
    "print(\"Testing Shape\", X_test.shape, y_test.shape)"
   ]
  },
  {
   "cell_type": "code",
   "execution_count": 214,
   "id": "3fbef4b3",
   "metadata": {
    "ExecuteTime": {
     "end_time": "2022-12-14T12:42:31.596672Z",
     "start_time": "2022-12-14T12:42:31.589691Z"
    }
   },
   "outputs": [
    {
     "name": "stdout",
     "output_type": "stream",
     "text": [
      "Training Shape torch.Size([3457, 1, 5]) torch.Size([3457, 1])\n",
      "Validing Shape torch.Size([0, 1, 5]) torch.Size([0, 1])\n",
      "Testing Shape torch.Size([864, 1, 5]) torch.Size([864, 1])\n"
     ]
    }
   ],
   "source": [
    "X_train_tensors = Variable(torch.Tensor(X_train))\n",
    "X_valid_tensors = Variable(torch.Tensor(X_valid))\n",
    "X_test_tensors = Variable(torch.Tensor(X_test))\n",
    "\n",
    "y_train_tensors = Variable(torch.Tensor(y_train))\n",
    "y_valid_tensors = Variable(torch.Tensor(y_valid))\n",
    "y_test_tensors = Variable(torch.Tensor(y_test))\n",
    "\n",
    "X_train_tensors_f = torch.reshape(X_train_tensors, (X_train_tensors.shape[0], 1, X_train_tensors.shape[1]))\n",
    "X_valid_tensors_f = torch.reshape(X_valid_tensors, (X_valid_tensors.shape[0], 1, X_valid_tensors.shape[1]))\n",
    "X_test_tensors_f = torch.reshape(X_test_tensors, (X_test_tensors.shape[0], 1, X_test_tensors.shape[1]))\n",
    "\n",
    "print(\"Training Shape\", X_train_tensors_f.shape, y_train_tensors.shape)\n",
    "print(\"Validing Shape\", X_valid_tensors_f.shape, y_valid_tensors.shape)\n",
    "print(\"Testing Shape\", X_test_tensors_f.shape, y_test_tensors.shape)"
   ]
  },
  {
   "cell_type": "code",
   "execution_count": 215,
   "id": "0ca5471c",
   "metadata": {
    "ExecuteTime": {
     "end_time": "2022-12-14T12:42:33.382893Z",
     "start_time": "2022-12-14T12:42:33.375912Z"
    }
   },
   "outputs": [],
   "source": [
    "class LSTM(nn.Module):\n",
    "    def __init__(self, num_classes, input_size, hidden_size, num_layers, seq_length):\n",
    "        super(LSTM, self).__init__()\n",
    "        self.num_classes = num_classes\n",
    "        self.num_layers = num_layers\n",
    "        self.input_size = input_size\n",
    "        self.hidden_size = hidden_size\n",
    "        self.seq_length = seq_length\n",
    "        \n",
    "        self.lstm = nn.LSTM(input_size = input_size, hidden_size = hidden_size, \n",
    "                           num_layers = num_layers, batch_first = True)\n",
    "        self.fc_1 = nn.Linear(hidden_size, 128)\n",
    "        self.fc = nn.Linear(128, num_classes)\n",
    "        self.relu = nn.ReLU()\n",
    "        \n",
    "    def forward(self, x):\n",
    "        h_0 = Variable(torch.zeros(self.num_layers, x.size(0), self.hidden_size))\n",
    "        c_0 = Variable(torch.zeros(self.num_layers, x.size(0), self.hidden_size))\n",
    "        output, (hn, cn) = self.lstm(x, (h_0, c_0))\n",
    "        hn = hn.view(-1, self.hidden_size)\n",
    "        out = self.relu(hn)\n",
    "        out = self.fc_1(out)\n",
    "        out = self.relu(out)\n",
    "        out = self.fc(out)\n",
    "        return out"
   ]
  },
  {
   "cell_type": "code",
   "execution_count": 216,
   "id": "a6fc7e50",
   "metadata": {
    "ExecuteTime": {
     "end_time": "2022-12-14T12:42:34.965658Z",
     "start_time": "2022-12-14T12:42:34.959677Z"
    }
   },
   "outputs": [],
   "source": [
    "class EarlyStopping:\n",
    "    def __init__(self, patience=5):\n",
    "        self.loss = np.inf\n",
    "        self.patience = 0\n",
    "        self.patience_limit = patience\n",
    "        \n",
    "    def step(self, loss):\n",
    "        if self.loss > loss:\n",
    "            self.loss = loss\n",
    "            self.patience = 0\n",
    "        else:\n",
    "            self.patience += 1\n",
    "    \n",
    "    def is_stop(self):\n",
    "        return self.patience >= self.patience_limit"
   ]
  },
  {
   "cell_type": "code",
   "execution_count": 217,
   "id": "b8758fd7",
   "metadata": {
    "ExecuteTime": {
     "end_time": "2022-12-14T12:42:56.780297Z",
     "start_time": "2022-12-14T12:42:35.823365Z"
    }
   },
   "outputs": [
    {
     "name": "stdout",
     "output_type": "stream",
     "text": [
      "Epoch: 500, loss: 0.00010940\n",
      "Epoch: 1000, loss: 0.00006218\n",
      "Epoch: 1500, loss: 0.00004673\n",
      "Epoch: 2000, loss: 0.00003928\n",
      "Epoch: 2500, loss: 0.00003397\n",
      "Epoch: 3000, loss: 0.00003047\n",
      "Epoch: 3500, loss: 0.00002866\n",
      "Earlystop at 3982\n"
     ]
    }
   ],
   "source": [
    "num_epochs = 20000\n",
    "learning_rate = 0.001\n",
    "\n",
    "input_size = 5\n",
    "hidden_size = 2\n",
    "num_layers = 1\n",
    "\n",
    "num_classes = 1\n",
    "model = LSTM(num_classes, input_size, hidden_size, num_layers, X_train_tensors_f.shape[1])\n",
    "\n",
    "criterion = torch.nn.MSELoss()\n",
    "optimizer = torch.optim.Adam(model.parameters(), lr = learning_rate)\n",
    "\n",
    "early_stop = EarlyStopping(patience=20)\n",
    "\n",
    "for epoch in range(num_epochs):\n",
    "    outputs = model.forward(X_train_tensors_f)\n",
    "    optimizer.zero_grad()\n",
    "    loss = criterion(outputs, y_train_tensors)\n",
    "    early_stop.step(loss.item())\n",
    "    \n",
    "    loss.backward()\n",
    "            \n",
    "    optimizer.step()\n",
    "    \n",
    "    if early_stop.is_stop():\n",
    "        print(\"Earlystop at %d\" % (epoch + 1))\n",
    "        break\n",
    "\n",
    "    \n",
    "    if (epoch + 1) % 500 == 0:\n",
    "        print(\"Epoch: %d, loss: %1.8f\" % (epoch + 1, loss.item()))\n"
   ]
  },
  {
   "cell_type": "code",
   "execution_count": 175,
   "id": "3d27eb09",
   "metadata": {
    "ExecuteTime": {
     "end_time": "2022-12-14T12:10:09.468556Z",
     "start_time": "2022-12-14T12:08:48.823806Z"
    }
   },
   "outputs": [
    {
     "name": "stdout",
     "output_type": "stream",
     "text": [
      "Epoch: 500, loss: 0.00890492\n",
      "Epoch: 1000, loss: 0.00315517\n",
      "Epoch: 1500, loss: 0.00167196\n",
      "Epoch: 2000, loss: 0.00086427\n",
      "Epoch: 2500, loss: 0.00048426\n",
      "Epoch: 3000, loss: 0.00032927\n",
      "Epoch: 3500, loss: 0.00022956\n",
      "Epoch: 4000, loss: 0.00016372\n",
      "Epoch: 4500, loss: 0.00011958\n",
      "Epoch: 5000, loss: 0.00009233\n",
      "Epoch: 5500, loss: 0.00007598\n",
      "Epoch: 6000, loss: 0.00006512\n",
      "Epoch: 6500, loss: 0.00005651\n",
      "Epoch: 7000, loss: 0.00004988\n",
      "Epoch: 7500, loss: 0.00004506\n",
      "Epoch: 8000, loss: 0.00004154\n",
      "Epoch: 8500, loss: 0.00003899\n",
      "Epoch: 9000, loss: 0.00003712\n",
      "Epoch: 9500, loss: 0.00003573\n",
      "Epoch: 10000, loss: 0.00003462\n",
      "Epoch: 10500, loss: 0.00003366\n",
      "Epoch: 11000, loss: 0.00003278\n",
      "Epoch: 11500, loss: 0.00003200\n",
      "Epoch: 12000, loss: 0.00003128\n",
      "Epoch: 12500, loss: 0.00003065\n",
      "Epoch: 13000, loss: 0.00003010\n",
      "Epoch: 13500, loss: 0.00002964\n",
      "Epoch: 14000, loss: 0.00002932\n",
      "Epoch: 14500, loss: 0.00002912\n",
      "Earlystop at 14791\n"
     ]
    }
   ],
   "source": [
    "num_epochs = 20000\n",
    "learning_rate = 0.0001\n",
    "\n",
    "input_size = 5\n",
    "hidden_size = 2\n",
    "num_layers = 1\n",
    "\n",
    "num_classes = 1\n",
    "model = LSTM(num_classes, input_size, hidden_size, num_layers, X_train_tensors_f.shape[1])\n",
    "\n",
    "criterion = torch.nn.MSELoss()\n",
    "optimizer = torch.optim.Adam(model.parameters(), lr = learning_rate)\n",
    "\n",
    "early_stop = EarlyStopping(patience=20)\n",
    "\n",
    "for epoch in range(num_epochs):\n",
    "    outputs = model.forward(X_train_tensors_f)\n",
    "    optimizer.zero_grad()\n",
    "    loss = criterion(outputs, y_train_tensors)\n",
    "    early_stop.step(loss.item())\n",
    "    \n",
    "    loss.backward()\n",
    "            \n",
    "    optimizer.step()\n",
    "    \n",
    "    if early_stop.is_stop():\n",
    "        print(\"Earlystop at %d\" % (epoch + 1))\n",
    "        break\n",
    "\n",
    "    \n",
    "    if (epoch + 1) % 500 == 0:\n",
    "        print(\"Epoch: %d, loss: %1.8f\" % (epoch + 1, loss.item()))\n"
   ]
  },
  {
   "cell_type": "code",
   "execution_count": 218,
   "id": "7284ec85",
   "metadata": {
    "ExecuteTime": {
     "end_time": "2022-12-14T12:43:11.780167Z",
     "start_time": "2022-12-14T12:43:11.771192Z"
    }
   },
   "outputs": [],
   "source": [
    "df_x_ss = ss.transform(data.iloc[:, 1:])\n",
    "df_y_ms = ms.transform(data.iloc[:, :1])\n",
    "\n",
    "df_x_ss = Variable(torch.Tensor(df_x_ss))\n",
    "df_y_ms = Variable(torch.Tensor(df_y_ms))\n",
    "df_x_ss = torch.reshape(df_x_ss, (df_x_ss.shape[0], 1, df_x_ss.shape[1]))"
   ]
  },
  {
   "cell_type": "code",
   "execution_count": 219,
   "id": "acfe23c0",
   "metadata": {
    "ExecuteTime": {
     "end_time": "2022-12-14T12:43:12.407488Z",
     "start_time": "2022-12-14T12:43:12.203035Z"
    }
   },
   "outputs": [
    {
     "data": {
      "image/png": "[encoded data removed]",
      "text/plain": [
       "<Figure size 1440x720 with 1 Axes>"
      ]
     },
     "metadata": {
      "needs_background": "light"
     },
     "output_type": "display_data"
    }
   ],
   "source": [
    "train_predict = model(df_x_ss)\n",
    "predicted = train_predict.data.numpy()\n",
    "label_y = df_y_ms.data.numpy()\n",
    "\n",
    "predicted = ms.inverse_transform(predicted)\n",
    "label_y = ms.inverse_transform(label_y)\n",
    "plt.figure(figsize = (20, 10))\n",
    "plt.axvline(x = train_cnt, c = 'r', linestyle = '--')\n",
    "\n",
    "plt.plot(label_y, label = 'Actual Data')\n",
    "plt.plot(predicted, label = 'Predicted Data')\n",
    "plt.title('Time-Series Prediction')\n",
    "plt.legend()\n",
    "plt.show()"
   ]
  },
  {
   "cell_type": "code",
   "execution_count": 220,
   "id": "7fa3e53b",
   "metadata": {
    "ExecuteTime": {
     "end_time": "2022-12-14T12:43:14.919767Z",
     "start_time": "2022-12-14T12:43:14.915779Z"
    }
   },
   "outputs": [
    {
     "name": "stdout",
     "output_type": "stream",
     "text": [
      "MAE SCORE :  91.57332\n"
     ]
    }
   ],
   "source": [
    "def MAE(true, pred):\n",
    "    return np.mean(np.abs(true-pred))\n",
    "\n",
    "print('MAE SCORE : ', MAE(label_y, predicted))"
   ]
  },
  {
   "cell_type": "code",
   "execution_count": null,
   "id": "c7898128",
   "metadata": {},
   "outputs": [],
   "source": [
    "# 모델 저장\n",
    "\n",
    "PATH = f\"../../Model/{}.pth\"\n",
    "torch.save(model.state_dict(), PATH)"
   ]
  },
  {
   "cell_type": "code",
   "execution_count": 221,
   "id": "65bbe2ad",
   "metadata": {
    "ExecuteTime": {
     "end_time": "2022-12-14T12:43:20.806019Z",
     "start_time": "2022-12-14T12:43:20.802030Z"
    }
   },
   "outputs": [
    {
     "data": {
      "text/plain": [
       "4322"
      ]
     },
     "execution_count": 221,
     "metadata": {},
     "output_type": "execute_result"
    }
   ],
   "source": [
    "len(df_x_ss)"
   ]
  },
  {
   "cell_type": "code",
   "execution_count": 222,
   "id": "7125631c",
   "metadata": {
    "ExecuteTime": {
     "end_time": "2022-12-14T12:43:21.082280Z",
     "start_time": "2022-12-14T12:43:21.077294Z"
    }
   },
   "outputs": [
    {
     "data": {
      "text/plain": [
       "4322"
      ]
     },
     "execution_count": 222,
     "metadata": {},
     "output_type": "execute_result"
    }
   ],
   "source": [
    "len(label_y)"
   ]
  },
  {
   "cell_type": "code",
   "execution_count": 223,
   "id": "4db90a62",
   "metadata": {
    "ExecuteTime": {
     "end_time": "2022-12-14T12:43:21.432345Z",
     "start_time": "2022-12-14T12:43:21.427357Z"
    }
   },
   "outputs": [
    {
     "data": {
      "text/plain": [
       "4322"
      ]
     },
     "execution_count": 223,
     "metadata": {},
     "output_type": "execute_result"
    }
   ],
   "source": [
    "len(predicted)"
   ]
  },
  {
   "cell_type": "code",
   "execution_count": 224,
   "id": "c6437858",
   "metadata": {
    "ExecuteTime": {
     "end_time": "2022-12-14T12:43:26.156704Z",
     "start_time": "2022-12-14T12:43:26.151719Z"
    }
   },
   "outputs": [
    {
     "data": {
      "text/plain": [
       "tensor([[ 0.9149,  0.9644, -0.3883,  1.1439, -0.3497]])"
      ]
     },
     "execution_count": 224,
     "metadata": {},
     "output_type": "execute_result"
    }
   ],
   "source": [
    "df_x_ss[-1]"
   ]
  },
  {
   "cell_type": "code",
   "execution_count": 225,
   "id": "7634674f",
   "metadata": {
    "ExecuteTime": {
     "end_time": "2022-12-14T12:43:26.503776Z",
     "start_time": "2022-12-14T12:43:26.499786Z"
    }
   },
   "outputs": [
    {
     "data": {
      "text/plain": [
       "array([8370.], dtype=float32)"
      ]
     },
     "execution_count": 225,
     "metadata": {},
     "output_type": "execute_result"
    }
   ],
   "source": [
    "label_y[-1]"
   ]
  },
  {
   "cell_type": "code",
   "execution_count": 226,
   "id": "61f47224",
   "metadata": {
    "ExecuteTime": {
     "end_time": "2022-12-14T12:43:26.790010Z",
     "start_time": "2022-12-14T12:43:26.786022Z"
    }
   },
   "outputs": [
    {
     "data": {
      "text/plain": [
       "array([8326.874], dtype=float32)"
      ]
     },
     "execution_count": 226,
     "metadata": {},
     "output_type": "execute_result"
    }
   ],
   "source": [
    "predicted[-1]"
   ]
  },
  {
   "cell_type": "code",
   "execution_count": 227,
   "id": "9247dca4",
   "metadata": {
    "ExecuteTime": {
     "end_time": "2022-12-14T12:43:27.596879Z",
     "start_time": "2022-12-14T12:43:27.584885Z"
    }
   },
   "outputs": [
    {
     "data": {
      "text/html": [
       "<div>\n",
       "<style scoped>\n",
       "    .dataframe tbody tr th:only-of-type {\n",
       "        vertical-align: middle;\n",
       "    }\n",
       "\n",
       "    .dataframe tbody tr th {\n",
       "        vertical-align: top;\n",
       "    }\n",
       "\n",
       "    .dataframe thead th {\n",
       "        text-align: right;\n",
       "    }\n",
       "</style>\n",
       "<table border=\"1\" class=\"dataframe\">\n",
       "  <thead>\n",
       "    <tr style=\"text-align: right;\">\n",
       "      <th></th>\n",
       "      <th>Open</th>\n",
       "      <th>High</th>\n",
       "      <th>Low</th>\n",
       "      <th>Close</th>\n",
       "      <th>Adj Close</th>\n",
       "      <th>Volume</th>\n",
       "    </tr>\n",
       "    <tr>\n",
       "      <th>Date</th>\n",
       "      <th></th>\n",
       "      <th></th>\n",
       "      <th></th>\n",
       "      <th></th>\n",
       "      <th></th>\n",
       "      <th></th>\n",
       "    </tr>\n",
       "  </thead>\n",
       "  <tbody>\n",
       "    <tr>\n",
       "      <th>2000-01-04</th>\n",
       "      <td>2658.120117</td>\n",
       "      <td>3110.570068</td>\n",
       "      <td>2658.120117</td>\n",
       "      <td>15552.850586</td>\n",
       "      <td>2752.192383</td>\n",
       "      <td>898582</td>\n",
       "    </tr>\n",
       "    <tr>\n",
       "      <th>2000-01-05</th>\n",
       "      <td>3167.120117</td>\n",
       "      <td>3572.439941</td>\n",
       "      <td>2940.899902</td>\n",
       "      <td>16495.451172</td>\n",
       "      <td>2918.992432</td>\n",
       "      <td>3865389</td>\n",
       "    </tr>\n",
       "    <tr>\n",
       "      <th>2000-01-06</th>\n",
       "      <td>3299.090088</td>\n",
       "      <td>3468.750000</td>\n",
       "      <td>2808.939941</td>\n",
       "      <td>14327.450195</td>\n",
       "      <td>2535.348633</td>\n",
       "      <td>1382353</td>\n",
       "    </tr>\n",
       "    <tr>\n",
       "      <th>2000-01-07</th>\n",
       "      <td>2978.600098</td>\n",
       "      <td>3289.659912</td>\n",
       "      <td>2827.790039</td>\n",
       "      <td>16448.298828</td>\n",
       "      <td>2910.648682</td>\n",
       "      <td>2402938</td>\n",
       "    </tr>\n",
       "    <tr>\n",
       "      <th>2000-01-10</th>\n",
       "      <td>3638.419922</td>\n",
       "      <td>3694.979980</td>\n",
       "      <td>3157.699951</td>\n",
       "      <td>16024.150391</td>\n",
       "      <td>2835.592041</td>\n",
       "      <td>3993227</td>\n",
       "    </tr>\n",
       "    <tr>\n",
       "      <th>...</th>\n",
       "      <td>...</td>\n",
       "      <td>...</td>\n",
       "      <td>...</td>\n",
       "      <td>...</td>\n",
       "      <td>...</td>\n",
       "      <td>...</td>\n",
       "    </tr>\n",
       "    <tr>\n",
       "      <th>2017-07-03</th>\n",
       "      <td>8470.000000</td>\n",
       "      <td>8510.000000</td>\n",
       "      <td>8410.000000</td>\n",
       "      <td>8440.000000</td>\n",
       "      <td>8440.000000</td>\n",
       "      <td>25073</td>\n",
       "    </tr>\n",
       "    <tr>\n",
       "      <th>2017-07-04</th>\n",
       "      <td>8450.000000</td>\n",
       "      <td>8490.000000</td>\n",
       "      <td>8370.000000</td>\n",
       "      <td>8430.000000</td>\n",
       "      <td>8430.000000</td>\n",
       "      <td>44152</td>\n",
       "    </tr>\n",
       "    <tr>\n",
       "      <th>2017-07-05</th>\n",
       "      <td>8430.000000</td>\n",
       "      <td>8440.000000</td>\n",
       "      <td>8300.000000</td>\n",
       "      <td>8340.000000</td>\n",
       "      <td>8340.000000</td>\n",
       "      <td>62841</td>\n",
       "    </tr>\n",
       "    <tr>\n",
       "      <th>2017-07-06</th>\n",
       "      <td>8340.000000</td>\n",
       "      <td>8420.000000</td>\n",
       "      <td>8300.000000</td>\n",
       "      <td>8400.000000</td>\n",
       "      <td>8400.000000</td>\n",
       "      <td>48957</td>\n",
       "    </tr>\n",
       "    <tr>\n",
       "      <th>2017-07-07</th>\n",
       "      <td>8370.000000</td>\n",
       "      <td>8370.000000</td>\n",
       "      <td>8190.000000</td>\n",
       "      <td>8270.000000</td>\n",
       "      <td>8270.000000</td>\n",
       "      <td>91431</td>\n",
       "    </tr>\n",
       "  </tbody>\n",
       "</table>\n",
       "<p>4322 rows × 6 columns</p>\n",
       "</div>"
      ],
      "text/plain": [
       "                   Open         High          Low         Close    Adj Close  \\\n",
       "Date                                                                           \n",
       "2000-01-04  2658.120117  3110.570068  2658.120117  15552.850586  2752.192383   \n",
       "2000-01-05  3167.120117  3572.439941  2940.899902  16495.451172  2918.992432   \n",
       "2000-01-06  3299.090088  3468.750000  2808.939941  14327.450195  2535.348633   \n",
       "2000-01-07  2978.600098  3289.659912  2827.790039  16448.298828  2910.648682   \n",
       "2000-01-10  3638.419922  3694.979980  3157.699951  16024.150391  2835.592041   \n",
       "...                 ...          ...          ...           ...          ...   \n",
       "2017-07-03  8470.000000  8510.000000  8410.000000   8440.000000  8440.000000   \n",
       "2017-07-04  8450.000000  8490.000000  8370.000000   8430.000000  8430.000000   \n",
       "2017-07-05  8430.000000  8440.000000  8300.000000   8340.000000  8340.000000   \n",
       "2017-07-06  8340.000000  8420.000000  8300.000000   8400.000000  8400.000000   \n",
       "2017-07-07  8370.000000  8370.000000  8190.000000   8270.000000  8270.000000   \n",
       "\n",
       "             Volume  \n",
       "Date                 \n",
       "2000-01-04   898582  \n",
       "2000-01-05  3865389  \n",
       "2000-01-06  1382353  \n",
       "2000-01-07  2402938  \n",
       "2000-01-10  3993227  \n",
       "...             ...  \n",
       "2017-07-03    25073  \n",
       "2017-07-04    44152  \n",
       "2017-07-05    62841  \n",
       "2017-07-06    48957  \n",
       "2017-07-07    91431  \n",
       "\n",
       "[4322 rows x 6 columns]"
      ]
     },
     "execution_count": 227,
     "metadata": {},
     "output_type": "execute_result"
    }
   ],
   "source": [
    "data"
   ]
  },
  {
   "cell_type": "code",
   "execution_count": 235,
   "id": "5012f098",
   "metadata": {
    "ExecuteTime": {
     "end_time": "2022-12-14T12:44:57.688823Z",
     "start_time": "2022-12-14T12:44:57.682838Z"
    }
   },
   "outputs": [
    {
     "data": {
      "text/plain": [
       "array([[8326.874]], dtype=float32)"
      ]
     },
     "execution_count": 235,
     "metadata": {},
     "output_type": "execute_result"
    }
   ],
   "source": [
    "predicted1 = ms.inverse_transform(model(df_x_ss[-1:]).data.numpy())\n",
    "predicted1"
   ]
  },
  {
   "cell_type": "code",
   "execution_count": 233,
   "id": "66e10be3",
   "metadata": {
    "ExecuteTime": {
     "end_time": "2022-12-14T12:44:35.309694Z",
     "start_time": "2022-12-14T12:44:35.303710Z"
    }
   },
   "outputs": [
    {
     "data": {
      "text/plain": [
       "tensor([[0.4286]], grad_fn=<AddmmBackward0>)"
      ]
     },
     "execution_count": 233,
     "metadata": {},
     "output_type": "execute_result"
    }
   ],
   "source": [
    "model(df_x_ss[-1:])"
   ]
  },
  {
   "cell_type": "code",
   "execution_count": null,
   "id": "f3a0f3a0",
   "metadata": {},
   "outputs": [],
   "source": []
  }
 ],
 "metadata": {
  "kernelspec": {
   "display_name": "Kakao",
   "language": "python",
   "name": "kakao"
  },
  "language_info": {
   "codemirror_mode": {
    "name": "ipython",
    "version": 3
   },
   "file_extension": ".py",
   "mimetype": "text/x-python",
   "name": "python",
   "nbconvert_exporter": "python",
   "pygments_lexer": "ipython3",
   "version": "3.8.8"
  },
  "toc": {
   "base_numbering": 1,
   "nav_menu": {},
   "number_sections": true,
   "sideBar": true,
   "skip_h1_title": false,
   "title_cell": "Table of Contents",
   "title_sidebar": "Contents",
   "toc_cell": false,
   "toc_position": {},
   "toc_section_display": true,
   "toc_window_display": false
  }
 },
 "nbformat": 4,
 "nbformat_minor": 5
}
