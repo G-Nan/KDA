{
 "cells": [
  {
   "cell_type": "code",
   "execution_count": 1,
   "id": "21f5173b",
   "metadata": {
    "ExecuteTime": {
     "end_time": "2022-11-23T11:30:51.733475Z",
     "start_time": "2022-11-23T11:30:49.444595Z"
    }
   },
   "outputs": [],
   "source": [
    "import os\n",
    "import time\n",
    "\n",
    "import numpy as np\n",
    "import pandas as pd\n",
    "import matplotlib.pyplot as plt\n",
    "\n",
    "import torch\n",
    "import torch.nn as nn\n",
    "from torch.utils.data import TensorDataset, DataLoader\n",
    "from torch.autograd import Variable\n",
    "from tqdm import tqdm_notebook\n",
    "from sklearn.preprocessing import StandardScaler, MinMaxScaler\n",
    "from sklearn.model_selection import train_test_split\n",
    "\n",
    "device = torch.device('cuda:0' if torch.cuda.is_available() else 'cpu')"
   ]
  },
  {
   "cell_type": "code",
   "execution_count": 2,
   "id": "fc1e9434",
   "metadata": {
    "ExecuteTime": {
     "end_time": "2022-11-23T11:30:51.798302Z",
     "start_time": "2022-11-23T11:30:51.734472Z"
    }
   },
   "outputs": [
    {
     "name": "stdout",
     "output_type": "stream",
     "text": [
      "Date       object\n",
      "Close     float64\n",
      "Open      float64\n",
      "High      float64\n",
      "Low       float64\n",
      "Volume    float64\n",
      "Change    float64\n",
      "dtype: object\n"
     ]
    }
   ],
   "source": [
    "data = pd.read_csv('../../Data1/kospi_data.csv')\n",
    "print(data.dtypes)"
   ]
  },
  {
   "cell_type": "code",
   "execution_count": 3,
   "id": "ae96b294",
   "metadata": {
    "ExecuteTime": {
     "end_time": "2022-11-23T11:30:51.809272Z",
     "start_time": "2022-11-23T11:30:51.799299Z"
    }
   },
   "outputs": [],
   "source": [
    "data['Date'] = pd.to_datetime(data['Date'])\n",
    "data.set_index('Date', inplace = True)"
   ]
  },
  {
   "cell_type": "code",
   "execution_count": 4,
   "id": "6e3517c1",
   "metadata": {
    "ExecuteTime": {
     "end_time": "2022-11-23T11:30:51.824233Z",
     "start_time": "2022-11-23T11:30:51.811267Z"
    }
   },
   "outputs": [
    {
     "name": "stdout",
     "output_type": "stream",
     "text": [
      "               Open     High      Low       Volume  Change\n",
      "Date                                                      \n",
      "1981-05-01   123.60   123.60   123.60    3330000.0  0.0098\n",
      "1981-05-02   123.50   123.50   123.50    2040000.0 -0.0008\n",
      "1981-05-04   120.60   120.60   120.60    1930000.0 -0.0235\n",
      "1981-05-06   120.70   120.70   120.70    1690000.0  0.0008\n",
      "1981-05-07   119.30   119.30   119.30    1480000.0 -0.0116\n",
      "...             ...      ...      ...          ...     ...\n",
      "2022-08-25  2459.79  2477.26  2455.32  426230000.0  0.0122\n",
      "2022-08-26  2489.14  2497.76  2476.75  520090000.0  0.0015\n",
      "2022-08-29  2432.06  2432.89  2417.01  448750000.0 -0.0218\n",
      "2022-08-30  2441.21  2453.91  2433.48     327210.0  0.0099\n",
      "2022-08-31  2433.47  2473.75  2426.14     397290.0  0.0086\n",
      "\n",
      "[11024 rows x 5 columns]\n",
      "              Close\n",
      "Date               \n",
      "1981-05-01   123.60\n",
      "1981-05-02   123.50\n",
      "1981-05-04   120.60\n",
      "1981-05-06   120.70\n",
      "1981-05-07   119.30\n",
      "...             ...\n",
      "2022-08-25  2477.26\n",
      "2022-08-26  2481.03\n",
      "2022-08-29  2426.89\n",
      "2022-08-30  2450.93\n",
      "2022-08-31  2472.05\n",
      "\n",
      "[11024 rows x 1 columns]\n"
     ]
    }
   ],
   "source": [
    "X = data.iloc[:, 1:]\n",
    "y = data.iloc[:, :1]\n",
    "print(X)\n",
    "print(y)"
   ]
  },
  {
   "cell_type": "code",
   "execution_count": 5,
   "id": "f05de98d",
   "metadata": {
    "ExecuteTime": {
     "end_time": "2022-11-23T11:30:51.836200Z",
     "start_time": "2022-11-23T11:30:51.825232Z"
    }
   },
   "outputs": [
    {
     "name": "stdout",
     "output_type": "stream",
     "text": [
      "Training Shape (8500, 5) (8500, 1)\n",
      "Testing Shape (2524, 5) (2524, 1)\n"
     ]
    }
   ],
   "source": [
    "ms = MinMaxScaler()\n",
    "ss = StandardScaler()\n",
    "\n",
    "X_ss = ss.fit_transform(X)\n",
    "y_ms = ms.fit_transform(y)\n",
    "\n",
    "X_train = X_ss[:8500, :]\n",
    "X_test = X_ss[8500:, :]\n",
    "\n",
    "y_train = y_ms[:8500, :]\n",
    "y_test = y_ms[8500:, :]\n",
    "\n",
    "print(\"Training Shape\", X_train.shape, y_train.shape)\n",
    "print(\"Testing Shape\", X_test.shape, y_test.shape)"
   ]
  },
  {
   "cell_type": "code",
   "execution_count": 6,
   "id": "2cb2ceeb",
   "metadata": {
    "ExecuteTime": {
     "end_time": "2022-11-23T11:30:51.844179Z",
     "start_time": "2022-11-23T11:30:51.837198Z"
    }
   },
   "outputs": [
    {
     "name": "stdout",
     "output_type": "stream",
     "text": [
      "Training Shape torch.Size([8500, 1, 5]) torch.Size([8500, 1])\n",
      "Testing Shape torch.Size([2524, 1, 5]) torch.Size([2524, 1])\n"
     ]
    }
   ],
   "source": [
    "X_train_tensors = Variable(torch.Tensor(X_train))\n",
    "X_test_tensors = Variable(torch.Tensor(X_test))\n",
    "\n",
    "y_train_tensors = Variable(torch.Tensor(y_train))\n",
    "y_test_tensors = Variable(torch.Tensor(y_test))\n",
    "\n",
    "X_train_tensors_f = torch.reshape(X_train_tensors, (X_train_tensors.shape[0], 1, X_train_tensors.shape[1]))\n",
    "X_test_tensors_f = torch.reshape(X_test_tensors, (X_test_tensors.shape[0], 1, X_test_tensors.shape[1]))\n",
    "\n",
    "print(\"Training Shape\", X_train_tensors_f.shape, y_train_tensors.shape)\n",
    "print(\"Testing Shape\", X_test_tensors_f.shape, y_test_tensors.shape)"
   ]
  },
  {
   "cell_type": "code",
   "execution_count": 7,
   "id": "174e2e23",
   "metadata": {
    "ExecuteTime": {
     "end_time": "2022-11-23T11:30:51.854151Z",
     "start_time": "2022-11-23T11:30:51.846174Z"
    }
   },
   "outputs": [],
   "source": [
    "class LSTM(nn.Module):\n",
    "    def __init__(self, num_classes, input_size, hidden_size, num_layers, seq_length):\n",
    "        super(LSTM, self).__init__()\n",
    "        self.num_classes = num_classes\n",
    "        self.num_layers = num_layers\n",
    "        self.input_size = input_size\n",
    "        self.hidden_size = hidden_size\n",
    "        self.seq_length = seq_length\n",
    "        \n",
    "        self.lstm = nn.LSTM(input_size = input_size, hidden_size = hidden_size, \n",
    "                           num_layers = num_layers, batch_first = True)\n",
    "        self.fc_1 = nn.Linear(hidden_size, 128)\n",
    "        self.fc = nn.Linear(128, num_classes)\n",
    "        self.relu = nn.ReLU()\n",
    "        \n",
    "    def forward(self, x):\n",
    "        h_0 = Variable(torch.zeros(self.num_layers, x.size(0), self.hidden_size))\n",
    "        c_0 = Variable(torch.zeros(self.num_layers, x.size(0), self.hidden_size))\n",
    "        output, (hn, cn) = self.lstm(x, (h_0, c_0))\n",
    "        hn = hn.view(-1, self.hidden_size)\n",
    "        out = self.relu(hn)\n",
    "        out = self.fc_1(out)\n",
    "        out = self.relu(out)\n",
    "        out = self.fc(out)\n",
    "        return out"
   ]
  },
  {
   "cell_type": "code",
   "execution_count": 8,
   "id": "4a14289d",
   "metadata": {
    "ExecuteTime": {
     "end_time": "2022-11-23T11:30:51.864125Z",
     "start_time": "2022-11-23T11:30:51.857145Z"
    }
   },
   "outputs": [],
   "source": [
    "num_epochs = 1000\n",
    "learning_rate = 0.0001\n",
    "\n",
    "input_size = 5\n",
    "hidden_size = 2\n",
    "num_layers = 1\n",
    "\n",
    "num_classes = 1\n",
    "model = LSTM(num_classes, input_size, hidden_size, num_layers, X_train_tensors_f.shape[1])\n",
    "\n",
    "criterion = torch.nn.MSELoss()\n",
    "optimizer = torch.optim.Adam(model.parameters(), lr = learning_rate)"
   ]
  },
  {
   "cell_type": "code",
   "execution_count": 9,
   "id": "13442a6c",
   "metadata": {
    "ExecuteTime": {
     "end_time": "2022-11-23T11:31:02.988379Z",
     "start_time": "2022-11-23T11:30:51.866121Z"
    }
   },
   "outputs": [
    {
     "name": "stdout",
     "output_type": "stream",
     "text": [
      "Epoch: 0, loss: 0.04621\n",
      "Epoch: 100, loss: 0.02679\n",
      "Epoch: 200, loss: 0.02425\n",
      "Epoch: 300, loss: 0.02168\n",
      "Epoch: 400, loss: 0.01826\n",
      "Epoch: 500, loss: 0.01430\n",
      "Epoch: 600, loss: 0.01067\n",
      "Epoch: 700, loss: 0.00826\n",
      "Epoch: 800, loss: 0.00701\n",
      "Epoch: 900, loss: 0.00631\n"
     ]
    }
   ],
   "source": [
    "for epoch in range(num_epochs):\n",
    "    outputs = model.forward(X_train_tensors_f)\n",
    "    optimizer.zero_grad()\n",
    "    loss = criterion(outputs, y_train_tensors)\n",
    "    loss.backward()\n",
    "    \n",
    "    optimizer.step()\n",
    "    if epoch % 100 == 0:\n",
    "        print(\"Epoch: %d, loss: %1.5f\" % (epoch, loss.item()))"
   ]
  },
  {
   "cell_type": "code",
   "execution_count": 10,
   "id": "6d879ee9",
   "metadata": {
    "ExecuteTime": {
     "end_time": "2022-11-23T11:31:02.999350Z",
     "start_time": "2022-11-23T11:31:02.989376Z"
    }
   },
   "outputs": [],
   "source": [
    "df_x_ss = ss.transform(data.iloc[:, 1:])\n",
    "df_y_ms = ms.transform(data.iloc[:, :1])\n",
    "\n",
    "df_x_ss = Variable(torch.Tensor(df_x_ss))\n",
    "df_y_ms = Variable(torch.Tensor(df_y_ms))\n",
    "df_x_ss = torch.reshape(df_x_ss, (df_x_ss.shape[0], 1, df_x_ss.shape[1]))"
   ]
  },
  {
   "cell_type": "code",
   "execution_count": 11,
   "id": "e567943a",
   "metadata": {
    "ExecuteTime": {
     "end_time": "2022-11-23T11:31:03.225745Z",
     "start_time": "2022-11-23T11:31:03.000347Z"
    }
   },
   "outputs": [
    {
     "data": {
      "image/png": "[encoded data removed]",
      "text/plain": [
       "<Figure size 720x432 with 1 Axes>"
      ]
     },
     "metadata": {
      "needs_background": "light"
     },
     "output_type": "display_data"
    }
   ],
   "source": [
    "train_predict = model(df_x_ss)\n",
    "predicted = train_predict.data.numpy()\n",
    "label_y = df_y_ms.data.numpy()\n",
    "\n",
    "predicted = ms.inverse_transform(predicted)\n",
    "label_y = ms.inverse_transform(label_y)\n",
    "plt.figure(figsize = (10, 6))\n",
    "plt.axvline(x = 8500, c = 'r', linestyle = '--')\n",
    "\n",
    "plt.plot(label_y, label = 'Actual Data')\n",
    "plt.plot(predicted, label = 'Predicted Data')\n",
    "plt.title('Time-Series Prediction')\n",
    "plt.legend()\n",
    "plt.show()"
   ]
  },
  {
   "cell_type": "code",
   "execution_count": 12,
   "id": "7c5cb70f",
   "metadata": {
    "ExecuteTime": {
     "end_time": "2022-11-23T11:31:03.232725Z",
     "start_time": "2022-11-23T11:31:03.226742Z"
    }
   },
   "outputs": [],
   "source": [
    "num_epochs = 10000\n",
    "learning_rate = 0.0001\n",
    "\n",
    "input_size = 5\n",
    "hidden_size = 2\n",
    "num_layers = 1\n",
    "\n",
    "num_classes = 1\n",
    "model = LSTM(num_classes, input_size, hidden_size, num_layers, X_train_tensors_f.shape[1])\n",
    "\n",
    "criterion = torch.nn.MSELoss()\n",
    "optimizer = torch.optim.Adam(model.parameters(), lr = learning_rate)"
   ]
  },
  {
   "cell_type": "code",
   "execution_count": 13,
   "id": "d994c6ba",
   "metadata": {
    "ExecuteTime": {
     "end_time": "2022-11-23T11:32:51.887184Z",
     "start_time": "2022-11-23T11:31:03.233724Z"
    }
   },
   "outputs": [
    {
     "name": "stdout",
     "output_type": "stream",
     "text": [
      "Epoch: 0, loss: 0.02610\n",
      "Epoch: 1000, loss: 0.00479\n",
      "Epoch: 2000, loss: 0.00149\n",
      "Epoch: 3000, loss: 0.00070\n",
      "Epoch: 4000, loss: 0.00036\n",
      "Epoch: 5000, loss: 0.00020\n",
      "Epoch: 6000, loss: 0.00010\n",
      "Epoch: 7000, loss: 0.00006\n",
      "Epoch: 8000, loss: 0.00003\n",
      "Epoch: 9000, loss: 0.00001\n"
     ]
    }
   ],
   "source": [
    "for epoch in range(num_epochs):\n",
    "    outputs = model.forward(X_train_tensors_f)\n",
    "    optimizer.zero_grad()\n",
    "    loss = criterion(outputs, y_train_tensors)\n",
    "    loss.backward()\n",
    "    \n",
    "    optimizer.step()\n",
    "    if epoch % 1000 == 0:\n",
    "        print(\"Epoch: %d, loss: %1.5f\" % (epoch, loss.item()))"
   ]
  },
  {
   "cell_type": "code",
   "execution_count": 14,
   "id": "fd57e4a6",
   "metadata": {
    "ExecuteTime": {
     "end_time": "2022-11-23T11:32:51.899151Z",
     "start_time": "2022-11-23T11:32:51.888181Z"
    }
   },
   "outputs": [],
   "source": [
    "df_x_ss = ss.transform(data.iloc[:, 1:])\n",
    "df_y_ms = ms.transform(data.iloc[:, :1])\n",
    "\n",
    "df_x_ss = Variable(torch.Tensor(df_x_ss))\n",
    "df_y_ms = Variable(torch.Tensor(df_y_ms))\n",
    "df_x_ss = torch.reshape(df_x_ss, (df_x_ss.shape[0], 1, df_x_ss.shape[1]))"
   ]
  },
  {
   "cell_type": "code",
   "execution_count": 15,
   "id": "a5740c75",
   "metadata": {
    "ExecuteTime": {
     "end_time": "2022-11-23T11:32:52.154470Z",
     "start_time": "2022-11-23T11:32:51.901147Z"
    }
   },
   "outputs": [
    {
     "data": {
      "image/png": "[encoded data removed]",
      "text/plain": [
       "<Figure size 720x432 with 1 Axes>"
      ]
     },
     "metadata": {
      "needs_background": "light"
     },
     "output_type": "display_data"
    }
   ],
   "source": [
    "train_predict = model(df_x_ss)\n",
    "predicted = train_predict.data.numpy()\n",
    "label_y = df_y_ms.data.numpy()\n",
    "\n",
    "predicted = ms.inverse_transform(predicted)\n",
    "label_y = ms.inverse_transform(label_y)\n",
    "plt.figure(figsize = (10, 6))\n",
    "plt.axvline(x = 8500, c = 'r', linestyle = '--')\n",
    "\n",
    "plt.plot(label_y, label = 'Actual Data')\n",
    "plt.plot(predicted, label = 'Predicted Data')\n",
    "plt.title('Time-Series Prediction')\n",
    "plt.legend()\n",
    "plt.show()"
   ]
  },
  {
   "cell_type": "code",
   "execution_count": 16,
   "id": "b6e0b6a6",
   "metadata": {
    "ExecuteTime": {
     "end_time": "2022-11-23T11:32:52.162448Z",
     "start_time": "2022-11-23T11:32:52.156465Z"
    }
   },
   "outputs": [
    {
     "data": {
      "text/plain": [
       "LSTM(\n",
       "  (lstm): LSTM(5, 2, batch_first=True)\n",
       "  (fc_1): Linear(in_features=2, out_features=128, bias=True)\n",
       "  (fc): Linear(in_features=128, out_features=1, bias=True)\n",
       "  (relu): ReLU()\n",
       ")"
      ]
     },
     "execution_count": 16,
     "metadata": {},
     "output_type": "execute_result"
    }
   ],
   "source": [
    "model"
   ]
  },
  {
   "cell_type": "code",
   "execution_count": 32,
   "id": "49afa4d5",
   "metadata": {
    "ExecuteTime": {
     "end_time": "2022-11-23T11:37:15.747669Z",
     "start_time": "2022-11-23T11:37:15.719745Z"
    }
   },
   "outputs": [],
   "source": [
    "pd.DataFrame(label_y).to_csv('../../Predict/LSTM_1.csv', )"
   ]
  },
  {
   "cell_type": "code",
   "execution_count": null,
   "id": "7a023a35",
   "metadata": {},
   "outputs": [],
   "source": []
  }
 ],
 "metadata": {
  "kernelspec": {
   "display_name": "Kakao",
   "language": "python",
   "name": "kakao"
  },
  "language_info": {
   "codemirror_mode": {
    "name": "ipython",
    "version": 3
   },
   "file_extension": ".py",
   "mimetype": "text/x-python",
   "name": "python",
   "nbconvert_exporter": "python",
   "pygments_lexer": "ipython3",
   "version": "3.8.8"
  },
  "toc": {
   "base_numbering": 1,
   "nav_menu": {},
   "number_sections": true,
   "sideBar": true,
   "skip_h1_title": false,
   "title_cell": "Table of Contents",
   "title_sidebar": "Contents",
   "toc_cell": false,
   "toc_position": {},
   "toc_section_display": true,
   "toc_window_display": false
  }
 },
 "nbformat": 4,
 "nbformat_minor": 5
}
